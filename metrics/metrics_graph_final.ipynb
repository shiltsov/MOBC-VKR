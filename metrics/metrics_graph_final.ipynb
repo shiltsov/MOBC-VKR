{
 "cells": [
  {
   "cell_type": "markdown",
   "id": "eb0821f0",
   "metadata": {},
   "source": [
    "## Метрики качества для сравнения итоговых графов\n",
    "\n",
    "Итоговая реализация в **final_metrics.py**\n",
    "\n",
    "Используем GED и поверх него добавляем штраф за несовпадение меток в вершинах / узлах"
   ]
  },
  {
   "cell_type": "markdown",
   "id": "90675641",
   "metadata": {},
   "source": [
    "На вход подаются 2 сцены вида\n",
    "\n",
    "```\n",
    "{\n",
    "    \"scene\": {\n",
    "        \"location\": \"автосервис\",\n",
    "        \"objects\": [\n",
    "            {\"гаечный ключ\": [\"металлический\"]},\n",
    "            {\"домкрат\": [\"металлический\", \"тяжелый\", \"прочный\"]},\n",
    "            {\"аккумулятор\": []}\n",
    "        ],\n",
    "        \"relations\": [\n",
    "            [\"аккумулятор\", \"рядом с\", \"гаечный ключ\"],\n",
    "            [\"гаечный ключ\", \"на\", \"домкрат\"]\n",
    "        ]\n",
    "    }\n",
    "}\n",
    "```\n",
    "\n",
    "### full_ged_score(scene_1, scene_2)\n",
    "\n",
    "результат - от 0 до 1. 1- полное совпадение 0 - отсутствие сходства\n",
    "\n",
    "### Как считается\n",
    "\n",
    "считаем, сколько нужно сделать изменений (минимальнео число) включая переименование вершин и ребер (если они именованы) чтобы получить из первого графа второй. "
   ]
  },
  {
   "cell_type": "code",
   "execution_count": 68,
   "id": "5e3231c3",
   "metadata": {},
   "outputs": [],
   "source": [
    "import networkx as nx\n",
    "from networkx.algorithms.similarity import optimize_graph_edit_distance\n",
    "\n",
    "from typing import Dict\n",
    "\n",
    "import spacy\n",
    "nlp = spacy.load(\"ru_core_news_sm\")"
   ]
  },
  {
   "cell_type": "markdown",
   "id": "96401e84",
   "metadata": {},
   "source": [
    "## Лемматизация сцены \n",
    "\n",
    "(будет полезно сделать на всякий случай)\n",
    "\n",
    "лемматизирует объекты, атрбуты и объекты в триплетах"
   ]
  },
  {
   "cell_type": "code",
   "execution_count": 69,
   "id": "79cdb7a4",
   "metadata": {},
   "outputs": [],
   "source": [
    "def lemmatize_scene(scene: Dict, nlp) -> Dict:\n",
    "    def lemmatize(text: str) -> str:\n",
    "        doc = nlp(text)\n",
    "        return \" \".join([token.lemma_ for token in doc])\n",
    "\n",
    "    new_scene = {\n",
    "        \"scene\": {\n",
    "            \"location\": scene[\"scene\"].get(\"location\", \"\"),\n",
    "            \"objects\": [],\n",
    "            \"relations\": []\n",
    "        }\n",
    "    }\n",
    "\n",
    "    # Лемматизируем объекты и их признаки\n",
    "    for obj in scene[\"scene\"].get(\"objects\", []):\n",
    "        for obj_name, attributes in obj.items():\n",
    "            obj_lemma = lemmatize(obj_name)\n",
    "            attrs_lemma = [lemmatize(attr) for attr in attributes]\n",
    "            new_scene[\"scene\"][\"objects\"].append({obj_lemma: attrs_lemma})\n",
    "\n",
    "    # Лемматизируем связи\n",
    "    for subj, rel, obj in scene[\"scene\"].get(\"relations\", []):\n",
    "        subj_lemma = lemmatize(subj)\n",
    "        rel_lemma = lemmatize(rel)\n",
    "        obj_lemma = lemmatize(obj)\n",
    "        new_scene[\"scene\"][\"relations\"].append([subj_lemma, rel_lemma, obj_lemma])\n",
    "\n",
    "    return new_scene"
   ]
  },
  {
   "cell_type": "code",
   "execution_count": 70,
   "id": "0d2c9e61",
   "metadata": {},
   "outputs": [],
   "source": [
    "scene = {\n",
    "    \"scene\": {\n",
    "        \"location\": \"автосервис\",\n",
    "        \"objects\": [\n",
    "            {\"Гаечного ключа\": [\"металлического\"]},\n",
    "            {\"домкратом\": [\"металлическим\", \"тяжелый\", \"прочный\"]},\n",
    "            {\"аккумулятор\": []}\n",
    "        ],\n",
    "        \"relations\": [\n",
    "            [\"Аккумулятора\", \"рядом с\", \"гаечный ключ\"],\n",
    "            [\"гаечный ключ\", \"на\", \"домкратом\"]\n",
    "        ]\n",
    "    }\n",
    "}\n"
   ]
  },
  {
   "cell_type": "code",
   "execution_count": 71,
   "id": "f3e9f3a8",
   "metadata": {},
   "outputs": [
    {
     "data": {
      "text/plain": [
       "{'scene': {'location': 'автосервис',\n",
       "  'objects': [{'гаечный ключ': ['металлический']},\n",
       "   {'домкрат': ['металлический', 'тяжёлый', 'прочный']},\n",
       "   {'аккумулятор': []}],\n",
       "  'relations': [['аккумулятор', 'рядом с', 'гаечный ключ'],\n",
       "   ['гаечный ключ', 'на', 'домкрат']]}}"
      ]
     },
     "execution_count": 71,
     "metadata": {},
     "output_type": "execute_result"
    }
   ],
   "source": [
    "lemmatize_scene(scene, nlp)"
   ]
  },
  {
   "cell_type": "markdown",
   "id": "a83e717a",
   "metadata": {},
   "source": [
    "### Реализация GED"
   ]
  },
  {
   "cell_type": "code",
   "execution_count": 72,
   "id": "496b942c",
   "metadata": {},
   "outputs": [],
   "source": [
    "def scene_to_graph_with_attrs(scene: Dict) -> nx.DiGraph:\n",
    "    G = nx.DiGraph()\n",
    "\n",
    "    # Вершины: объекты и атрибуты\n",
    "    for obj in scene[\"scene\"][\"objects\"]:\n",
    "        for obj_name, attributes in obj.items():\n",
    "            G.add_node(obj_name, type=\"object\")\n",
    "            for attr in attributes:\n",
    "                G.add_node(attr, type=\"attribute\")\n",
    "                G.add_edge(obj_name, attr, relation=None)\n",
    "\n",
    "    # Пространственные отношения\n",
    "    for subj, rel, obj in scene[\"scene\"][\"relations\"]:\n",
    "        G.add_edge(subj, obj, relation=rel)\n",
    "\n",
    "    return G"
   ]
  },
  {
   "cell_type": "code",
   "execution_count": 77,
   "id": "746ac6f3",
   "metadata": {},
   "outputs": [],
   "source": [
    "# Функция сопоставления меток узлов\n",
    "# узлы совпадают если в вершине одинаковые объекты\n",
    "def node_match(n1, n2):\n",
    "    return n1.get(\"type\") == n2.get(\"type\")\n",
    "\n",
    "\n",
    "# Функция сопоставления меток рёбер\n",
    "# если у обоих relation=None — считается совпадением (нормально)\n",
    "# то есть ребра объект-атрибут в обоих гафах считаются совпадающими даже при условии что нет метки\n",
    "def edge_match(e1, e2):\n",
    "    return e1.get(\"relation\") == e2.get(\"relation\")\n",
    "\n",
    "\n",
    "def evaluate_ged_score(scene1: Dict, scene2: Dict, normalize = True) -> float:\n",
    "    if normalize:\n",
    "        nlp = spacy.load(\"ru_core_news_sm\")\n",
    "        scene1 = lemmatize_scene(scene1, nlp)\n",
    "        scene2 = lemmatize_scene(scene2, nlp)    \n",
    "    \n",
    "    G1 = scene_to_graph_with_attrs(scene1)\n",
    "    G2 = scene_to_graph_with_attrs(scene2)\n",
    "\n",
    "    \n",
    "    # Оптимизируем GED с учётом атрибутов\n",
    "    # optimize_graph_edit_distance использует итеративный эвристический поиск \n",
    "    # по возможным сопоставлениям графов, первая выдача как правило оптимальная\n",
    "    # (но NP сложная задача и на больших графах работает медленно)\n",
    "    ged_iter = optimize_graph_edit_distance(G1, G2, node_match=node_match, edge_match=edge_match)\n",
    "\n",
    "    try:\n",
    "        edit_distance = next(ged_iter)\n",
    "    except StopIteration:\n",
    "        return 0.0\n",
    "\n",
    "    # Нормализация: максимум — если ни одной вершины и ребра не совпало\n",
    "    max_size = max(G1.number_of_nodes() + G1.number_of_edges(),\n",
    "                   G2.number_of_nodes() + G2.number_of_edges())\n",
    "\n",
    "    if max_size == 0:\n",
    "        return 1.0  # два пустых графа считаем полностью совпадающими\n",
    "\n",
    "    similarity = 1.0 - (edit_distance / max_size)\n",
    "    return {\n",
    "        \"GED_score\" : round(similarity, 4)\n",
    "    }"
   ]
  },
  {
   "cell_type": "code",
   "execution_count": 78,
   "id": "8d901448",
   "metadata": {},
   "outputs": [
    {
     "name": "stdout",
     "output_type": "stream",
     "text": [
      "perfect_match: {'GED_score': 1.0}\n",
      "minor_difference: {'GED_score': 0.8333}\n",
      "major_difference: {'GED_score': 0.5833}\n",
      "type_mismatch: {'GED_score': 0.4167}\n"
     ]
    }
   ],
   "source": [
    "# Тестовые сцены\n",
    "\n",
    "scene_ref = {\n",
    "    \"scene\": {\n",
    "        \"location\": \"автосервис\",\n",
    "        \"objects\": [\n",
    "            {\"гаечный ключ\": [\"металлический\"]},\n",
    "            {\"домкрат\": [\"металлический\", \"тяжелый\", \"прочный\"]},\n",
    "            {\"аккумулятор\": []}\n",
    "        ],\n",
    "        \"relations\": [\n",
    "            [\"аккумулятор\", \"рядом с\", \"гаечный ключ\"],\n",
    "            [\"гаечный ключ\", \"на\", \"домкрат\"]\n",
    "        ]\n",
    "    }\n",
    "}\n",
    "\n",
    "# Идеальное совпадение\n",
    "scene_same = scene_ref\n",
    "\n",
    "# Убрали один атрибут, заменили отношение\n",
    "scene_minor_diff = {\n",
    "    \"scene\": {\n",
    "        \"location\": \"автосервис\",\n",
    "        \"objects\": [\n",
    "            {\"гаечный ключ\": [\"металлический\"]},\n",
    "            {\"домкрат\": [\"тяжелый\", \"прочный\"]},  # \"металлический\" пропущен\n",
    "            {\"аккумулятор\": []}\n",
    "        ],\n",
    "        \"relations\": [\n",
    "            [\"аккумулятор\", \"перед\", \"гаечный ключ\"],  # заменили предлог\n",
    "            [\"гаечный ключ\", \"на\", \"домкрат\"]\n",
    "        ]\n",
    "    }\n",
    "}\n",
    "\n",
    "# Сильное отличие: другие объекты и связи\n",
    "scene_major_diff = {\n",
    "    \"scene\": {\n",
    "        \"location\": \"автосервис\",\n",
    "        \"objects\": [\n",
    "            {\"вентилятор\": [\"старый\"]},\n",
    "            {\"домкрат\": [\"ржавый\"]},\n",
    "            {\"инструмент\": [\"маленький\"]}\n",
    "        ],\n",
    "        \"relations\": [\n",
    "            [\"вентилятор\", \"под\", \"домкрат\"]\n",
    "        ]\n",
    "    }\n",
    "}\n",
    "\n",
    "# Ошибка в типе узла: один из атрибутов стал объектом\n",
    "scene_type_mismatch = {\n",
    "    \"scene\": {\n",
    "        \"location\": \"автосервис\",\n",
    "        \"objects\": [\n",
    "            {\"станок\": []},  # признак стал объектом\n",
    "            {\"домкрат\": [\"тяжелый\", \"прочный\"]},\n",
    "            {\"аккумулятор\": []}\n",
    "        ],\n",
    "        \"relations\": [\n",
    "            [\"аккумулятор\", \"рядом с\", \"металлический\"],\n",
    "            [\"металлический\", \"на\", \"домкрат\"]\n",
    "        ]\n",
    "    }\n",
    "}\n",
    "\n",
    "# Собираем результаты\n",
    "# Посчитаем для всех 4 сцен\n",
    "\n",
    "print(\"perfect_match:\", evaluate_ged_score(scene_ref, scene_same))\n",
    "print(\"minor_difference:\", evaluate_ged_score(scene_ref, scene_minor_diff))\n",
    "print(\"major_difference:\", evaluate_ged_score(scene_ref, scene_major_diff))\n",
    "print(\"type_mismatch:\", evaluate_ged_score(scene_ref, scene_type_mismatch))\n",
    "\n",
    "\n"
   ]
  },
  {
   "cell_type": "code",
   "execution_count": 79,
   "id": "c89a7569",
   "metadata": {},
   "outputs": [
    {
     "data": {
      "text/plain": [
       "{'GED_score': 1.0}"
      ]
     },
     "execution_count": 79,
     "metadata": {},
     "output_type": "execute_result"
    }
   ],
   "source": [
    "scene_1 = {\n",
    "    \"scene\": {\n",
    "        \"location\": \"автосервис\",\n",
    "        \"objects\": [\n",
    "            {\"гаечный ключ\": [\"металлический\"]},\n",
    "            {\"домкрат\": [\"металлический\", \"тяжелый\", \"прочный\"]},\n",
    "            {\"аккумулятор\": []}\n",
    "        ],\n",
    "        \"relations\": [\n",
    "            [\"аккумулятор\", \"рядом с\", \"гаечный ключ\"],\n",
    "            [\"гаечный ключ\", \"на\", \"домкрат\"]\n",
    "        ]\n",
    "    }\n",
    "}\n",
    "\n",
    "scene_2 = {\n",
    "    \"scene\": {\n",
    "        \"location\": \"автосервис\",\n",
    "        \"objects\": [\n",
    "            {\"гаечный ключ\": [\"металлический\"]},\n",
    "            {\"домкрат\": [\"металлический\", \"тяжелый\", \"прочный\"]},\n",
    "            {\"аккумулятор\": []}\n",
    "        ],\n",
    "        \"relations\": [\n",
    "            [\"аккумулятор\", \"рядом с\", \"гаечный ключ\"],\n",
    "            [\"гаечный ключ\", \"на\", \"домкрат\"]\n",
    "        ]\n",
    "    }\n",
    "}\n",
    "\n",
    "evaluate_ged_score(scene_1, scene_2)"
   ]
  },
  {
   "cell_type": "code",
   "execution_count": null,
   "id": "f49781b2",
   "metadata": {},
   "outputs": [],
   "source": []
  },
  {
   "cell_type": "code",
   "execution_count": null,
   "id": "ee494c6f",
   "metadata": {},
   "outputs": [],
   "source": []
  }
 ],
 "metadata": {
  "kernelspec": {
   "display_name": "Python 3 (ipykernel)",
   "language": "python",
   "name": "python3"
  },
  "language_info": {
   "codemirror_mode": {
    "name": "ipython",
    "version": 3
   },
   "file_extension": ".py",
   "mimetype": "text/x-python",
   "name": "python",
   "nbconvert_exporter": "python",
   "pygments_lexer": "ipython3",
   "version": "3.12.3"
  }
 },
 "nbformat": 4,
 "nbformat_minor": 5
}
