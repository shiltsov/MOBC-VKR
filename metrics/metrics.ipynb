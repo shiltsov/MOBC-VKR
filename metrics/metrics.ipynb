{
 "cells": [
  {
   "cell_type": "markdown",
   "id": "074c6ad9",
   "metadata": {},
   "source": [
    "## Валидация генерации (упрощенная модель без spacial)\n",
    "\n",
    "(итоговые функции перенесены в library/metrics.py и library/metrics_pseudo.py)"
   ]
  },
  {
   "cell_type": "markdown",
   "id": "fe4ce9d2",
   "metadata": {},
   "source": [
    "### Почему именно такие метрики выбраны и почему не подходят другие\n",
    "\n",
    " 1. Можно сравнивать генерацию и GT на основе метрики **ROUGE** или **ROUGE-N** (превращаем наше json описание в текст и сравниваем тексты), но это будет работать плохо потому что будет зависеть например от порядка признаков в описании объекта при обратном отображении json -> text ну и как-то нелогично для сравнения более компактную структуру разворачивать в структуру с большим числом степеней свободы и потмо сравнивать. Очень шумная метрика будет\n",
    "<br><br>\n",
    " 2. **BLEU** (Bilingual Evaluation Understudy) тоже совсем плохо подходит к задаче оценки извлечения объектов и признаков, потому что не учитывает структуру, чувствителен к порядку, сложно интерпретируется.\n",
    "<br><br>\n",
    " 3. **GED** (Graph Edit Distance) — это мера \"расстояния\" между двумя графами, равная минимальной стоимости преобразований (добавление/удаление/замена узлов и рёбер), необходимых для превращения одного графа в другой.в текущей постановке избыточна, но если строить реальные сценовые графы (с добавлением пространственных связей между объектами) была бы полезна"
   ]
  },
  {
   "cell_type": "code",
   "execution_count": 1,
   "id": "d4261f0c",
   "metadata": {},
   "outputs": [],
   "source": [
    "from typing import List, Dict, Tuple\n",
    "from collections import Counter\n",
    "import numpy as np\n",
    "import spacy\n",
    "\n",
    "# Загружаем русскую модель spaCy\n",
    "nlp = spacy.load(\"ru_core_news_sm\")"
   ]
  },
  {
   "cell_type": "code",
   "execution_count": 2,
   "id": "2e77ac48",
   "metadata": {},
   "outputs": [],
   "source": [
    "pred = [\n",
    "    {\"гаечный ключ\": [\"металлический\"]},\n",
    "    {\"домкрат\": [\"металлический\", \"тяжелый\"]},\n",
    "    {\"аккумулятор\": []}\n",
    "]\n",
    "\n",
    "label = [\n",
    "    {\"гаечный ключ\": [\"металлический\"]},\n",
    "    {\"домкрат\": [\"металлический\", \"тяжелый\", \"прочный\"]},\n",
    "    {\"аккумулятор\": []}\n",
    "]"
   ]
  },
  {
   "cell_type": "markdown",
   "id": "13f987f7",
   "metadata": {},
   "source": [
    "## Предварительная нормализация\n",
    "\n",
    "сгенерированный json может включать в себя слова в разных формах, поэтому для того чтобы это разнообразие не сказывалось на теккщей оценке считаю нужным лемматизировать все слова в json, как в сгенерированном так и в эталонном"
   ]
  },
  {
   "cell_type": "markdown",
   "id": "39baf578",
   "metadata": {},
   "source": [
    "## Используемые метрики\n",
    "\n",
    "### f1_objects\n",
    "\n",
    "Стандартная f1 по объектам. Метрика оценивает, насколько хорошо предсказаны имена объектов независимо от их признаков.\n",
    "\n",
    "(**тут я потом напишу кучу красивых формул в маркдауне**)"
   ]
  },
  {
   "cell_type": "code",
   "execution_count": null,
   "id": "42377bed",
   "metadata": {},
   "outputs": [],
   "source": [
    "        \"f1_objects\": round(f1_objects, 4),\n",
    "        \"f1_attributes_macro\": round(f1_attributes_macro, 4),\n",
    "        \"f1_attributes_weighted\": round(f1_attributes_weighted, 4),\n",
    "        \"f1_global_obj_attr_pairs\": round(f1_global_pairs, 4),\n",
    "        \"f1_combined_simple\": round(f1_combined_simple, 4),\n",
    "        \"f1_combined_weighted\": round(f1_combined_weighted, 4),"
   ]
  },
  {
   "cell_type": "markdown",
   "id": "595fab68",
   "metadata": {},
   "source": [
    "Простое объединение (f1_combined_simple)\n",
    "\n",
    "Простое среднее между F1 по объектам и F1 по признакам (macro):\n",
    "\n"
   ]
  },
  {
   "cell_type": "code",
   "execution_count": 3,
   "id": "ee685d34",
   "metadata": {},
   "outputs": [],
   "source": [
    "# Загружаем модель spaCy для русского языка\n",
    "nlp = spacy.load(\"ru_core_news_sm\")\n",
    "\n",
    "def lemmatize_phrase_spacy(phrase: str) -> str:\n",
    "    \"\"\"Лемматизирует фразу с помощью spaCy (только леммы, без пунктуации).\"\"\"\n",
    "    doc = nlp(phrase.lower())\n",
    "    return \" \".join([token.lemma_ for token in doc if not token.is_punct and not token.is_space])\n",
    "\n",
    "def normalize_structure(data: List[Dict[str, List[str]]]) -> Dict[str, List[str]]:\n",
    "    \"\"\"Преобразует список словарей в один словарь с лемматизированными объектами и признаками.\"\"\"\n",
    "    result = {}\n",
    "    for obj_dict in data:\n",
    "        for obj, attrs in obj_dict.items():\n",
    "            obj_lemma = lemmatize_phrase_spacy(obj)\n",
    "            attr_lemmas = [lemmatize_phrase_spacy(attr) for attr in attrs]\n",
    "            result.setdefault(obj_lemma, []).extend(attr_lemmas)\n",
    "    # Удалим дубли\n",
    "    result = {k: list(set(v)) for k, v in result.items()}\n",
    "    return result\n",
    "\n",
    "def precision_recall_f1(tp: int, fp: int, fn: int) -> Tuple[float, float, float]:\n",
    "    precision = tp / (tp + fp) if (tp + fp) > 0 else 0.0\n",
    "    recall = tp / (tp + fn) if (tp + fn) > 0 else 0.0\n",
    "    f1 = 2 * precision * recall / (precision + recall) if (precision + recall) > 0 else 0.0\n",
    "    return precision, recall, f1\n",
    "\n",
    "def evaluate_all_metrics(pred_raw: List[Dict[str, List[str]]], label_raw: List[Dict[str, List[str]]]) -> Dict[str, float]:\n",
    "    pred = normalize_structure(pred_raw)\n",
    "    label = normalize_structure(label_raw)\n",
    "\n",
    "    # F1 по объектам\n",
    "    pred_objects = set(pred.keys())\n",
    "    label_objects = set(label.keys())\n",
    "    tp_obj = len(pred_objects & label_objects)\n",
    "    fp_obj = len(pred_objects - label_objects)\n",
    "    fn_obj = len(label_objects - pred_objects)\n",
    "    _, _, f1_objects = precision_recall_f1(tp_obj, fp_obj, fn_obj)\n",
    "\n",
    "    # F1 по признакам по каждому объекту (усреднение по объектам, macro)\n",
    "    f1_per_object = []\n",
    "    total_attrs = 0\n",
    "    weighted_sum = 0\n",
    "    for obj in label_objects | pred_objects:\n",
    "        label_attrs = set(label.get(obj, []))\n",
    "        pred_attrs = set(pred.get(obj, []))\n",
    "        tp = len(label_attrs & pred_attrs)\n",
    "        fp = len(pred_attrs - label_attrs)\n",
    "        fn = len(label_attrs - pred_attrs)\n",
    "        _, _, f1 = precision_recall_f1(tp, fp, fn)\n",
    "        f1_per_object.append(f1)\n",
    "        weighted_sum += f1 * len(label_attrs)\n",
    "        total_attrs += len(label_attrs)\n",
    "\n",
    "    f1_attributes_macro = sum(f1_per_object) / len(f1_per_object) if f1_per_object else 0.0\n",
    "    f1_attributes_weighted = weighted_sum / total_attrs if total_attrs > 0 else 0.0\n",
    "\n",
    "    # Глобальный F1 по парам (obj, attr)\n",
    "    pred_pairs = {(obj, attr) for obj, attrs in pred.items() for attr in attrs}\n",
    "    label_pairs = {(obj, attr) for obj, attrs in label.items() for attr in attrs}\n",
    "    tp_pairs = len(pred_pairs & label_pairs)\n",
    "    fp_pairs = len(pred_pairs - label_pairs)\n",
    "    fn_pairs = len(label_pairs - pred_pairs)\n",
    "    _, _, f1_global_pairs = precision_recall_f1(tp_pairs, fp_pairs, fn_pairs)\n",
    "\n",
    "    # Объединённые метрики\n",
    "    f1_combined_simple = (f1_objects + f1_attributes_macro) / 2\n",
    "    total_obj = len(label_objects)\n",
    "    f1_combined_weighted = ((total_obj * f1_objects) + (total_attrs * f1_attributes_weighted)) / (total_obj + total_attrs) if (total_obj + total_attrs) > 0 else 0.0\n",
    "\n",
    "    return {\n",
    "        \"f1_objects\": round(f1_objects, 4),\n",
    "        \"f1_attributes_macro\": round(f1_attributes_macro, 4),\n",
    "        \"f1_attributes_weighted\": round(f1_attributes_weighted, 4),\n",
    "        \"f1_global_obj_attr_pairs\": round(f1_global_pairs, 4),\n",
    "        \"f1_combined_simple\": round(f1_combined_simple, 4),\n",
    "        \"f1_combined_weighted\": round(f1_combined_weighted, 4),\n",
    "    }\n"
   ]
  },
  {
   "cell_type": "code",
   "execution_count": 4,
   "id": "5164866e",
   "metadata": {},
   "outputs": [
    {
     "data": {
      "text/plain": [
       "{'f1_objects': 1.0,\n",
       " 'f1_attributes_macro': 0.6,\n",
       " 'f1_attributes_weighted': 0.85,\n",
       " 'f1_global_obj_attr_pairs': 0.8571,\n",
       " 'f1_combined_simple': 0.8,\n",
       " 'f1_combined_weighted': 0.9143}"
      ]
     },
     "execution_count": 4,
     "metadata": {},
     "output_type": "execute_result"
    }
   ],
   "source": [
    "evaluate_all_metrics(pred, label)"
   ]
  },
  {
   "cell_type": "code",
   "execution_count": null,
   "id": "25d7b710",
   "metadata": {},
   "outputs": [],
   "source": []
  },
  {
   "cell_type": "markdown",
   "id": "5d825584",
   "metadata": {},
   "source": [
    "### Тестовый пример"
   ]
  },
  {
   "cell_type": "markdown",
   "id": "cfe0f7af",
   "metadata": {},
   "source": []
  },
  {
   "cell_type": "code",
   "execution_count": 24,
   "id": "66a4bd7e",
   "metadata": {},
   "outputs": [],
   "source": [
    "def lemmatize_spacy(text: str) -> str:\n",
    "    \"\"\"\n",
    "    Лемматизирует отдельное слово или фразу (берёт первую лемму из анализа spaCy).\n",
    "    \"\"\"\n",
    "    doc = nlp(text)\n",
    "    return \" \".join([token.lemma_ for token in doc])\n",
    "\n",
    "def normalize_scene_json_spacy(scene_json: Dict) -> Dict:\n",
    "    \"\"\"\n",
    "    Возвращает новый JSON, где все объекты и признаки лемматизированы через spaCy.\n",
    "    \"\"\"\n",
    "    normalized_scene = {\"scene\": {\"location\": scene_json[\"scene\"].get(\"location\", \"\"), \"objects\": []}}\n",
    "    for obj_dict in scene_json[\"scene\"][\"objects\"]:\n",
    "        for obj_name, attributes in obj_dict.items():\n",
    "            obj_lemma = lemmatize_spacy(obj_name)\n",
    "            attr_lemmas = [lemmatize_spacy(attr) for attr in attributes]\n",
    "            normalized_scene[\"scene\"][\"objects\"].append({obj_lemma: attr_lemmas})\n",
    "    return normalized_scene\n",
    "\n",
    "# Проверим на нашем примере\n",
    "normalized_gt = normalize_scene_json_spacy(gt)\n",
    "normalized_pred = normalize_scene_json_spacy(pred)\n"
   ]
  },
  {
   "cell_type": "code",
   "execution_count": null,
   "id": "fdabf098",
   "metadata": {},
   "outputs": [],
   "source": []
  },
  {
   "cell_type": "markdown",
   "id": "49a945a2",
   "metadata": {},
   "source": [
    "## Метрики на основе F1-score\n",
    "\n"
   ]
  },
  {
   "attachments": {
    "1.png": {
     "image/png": "[encoded data removed]"
    }
   },
   "cell_type": "markdown",
   "id": "81fa97f9",
   "metadata": {},
   "source": [
    "### evaluate_scene_extraction()\n",
    "\n",
    "Считает:\n",
    "\n",
    " - F1 по объектам\n",
    " - F1 по признакам (в виде пар \"объект-признак\") \n",
    " - Усреднение F1 по объектам и признакам (по каждому объекту считаем F1 для признаков и усредняем)\n",
    " - Взвешенное среднее  по количеству\n",
    " \n",
    " ![1.png](attachment:1.png)"
   ]
  },
  {
   "cell_type": "code",
   "execution_count": 25,
   "id": "b5e07885",
   "metadata": {},
   "outputs": [],
   "source": [
    "def extract_objects_and_attributes(scene_json: Dict) -> Tuple[List[str], List[Tuple[str, str]]]:\n",
    "    \"\"\"\n",
    "    Извлекает список объектов и список (объект, признак) пар из JSON сцены.\n",
    "    \"\"\"\n",
    "    objects = []\n",
    "    object_attributes = []\n",
    "    for obj_dict in scene_json[\"scene\"][\"objects\"]:\n",
    "        for obj, attrs in obj_dict.items():\n",
    "            objects.append(obj)\n",
    "            for attr in attrs:\n",
    "                object_attributes.append((obj, attr))\n",
    "    return objects, object_attributes\n",
    "\n",
    "\n",
    "def precision_recall_f1(tp: int, fp: int, fn: int) -> Tuple[float, float, float]:\n",
    "    \"\"\"\n",
    "    Вычисляет precision, recall и F1.\n",
    "    \"\"\"\n",
    "    precision = tp / (tp + fp) if (tp + fp) > 0 else 0.0\n",
    "    recall = tp / (tp + fn) if (tp + fn) > 0 else 0.0\n",
    "    f1 = 2 * precision * recall / (precision + recall) if (precision + recall) > 0 else 0.0\n",
    "    return precision, recall, f1\n",
    "\n",
    "\n",
    "def evaluate_scene_extraction(gt_json: Dict, pred_json: Dict) -> Dict[str, float]:\n",
    "    # Извлекаем объекты и признаки\n",
    "    gt_objects, gt_pairs = extract_objects_and_attributes(gt_json)\n",
    "    pred_objects, pred_pairs = extract_objects_and_attributes(pred_json)\n",
    "\n",
    "    # F1 по объектам\n",
    "    gt_object_set = set(gt_objects)\n",
    "    pred_object_set = set(pred_objects)\n",
    "    tp_obj = len(gt_object_set & pred_object_set)\n",
    "    fp_obj = len(pred_object_set - gt_object_set)\n",
    "    fn_obj = len(gt_object_set - pred_object_set)\n",
    "    _, _, f1_object = precision_recall_f1(tp_obj, fp_obj, fn_obj)\n",
    "\n",
    "    # F1 по (объект, атрибут) парам\n",
    "    gt_pair_set = set(gt_pairs)\n",
    "    pred_pair_set = set(pred_pairs)\n",
    "    tp_attr = len(gt_pair_set & pred_pair_set)\n",
    "    fp_attr = len(pred_pair_set - gt_pair_set)\n",
    "    fn_attr = len(gt_pair_set - pred_pair_set)\n",
    "    _, _, f1_attr = precision_recall_f1(tp_attr, fp_attr, fn_attr)\n",
    "\n",
    "    # Взвешенное объединение\n",
    "    f1_combined_weighted = (\n",
    "        (len(gt_object_set) * f1_object + len(gt_pair_set) * f1_attr)\n",
    "        / (len(gt_object_set) + len(gt_pair_set))\n",
    "        if (len(gt_object_set) + len(gt_pair_set)) > 0\n",
    "        else 0.0\n",
    "    )\n",
    "    \n",
    "    # Простое среднее\n",
    "    f1_combined_simple = (f1_object + f1_attr) / 2\n",
    "\n",
    "    return {\n",
    "        \"f1_object\": f1_object,\n",
    "        \"f1_attribute\": f1_attr,\n",
    "        \"f1_combined_weighted\": f1_combined_weighted,\n",
    "        \"f1_combined_simple\": f1_combined_simple,\n",
    "    }\n"
   ]
  },
  {
   "cell_type": "markdown",
   "id": "15492351",
   "metadata": {},
   "source": [
    "### evaluate_global_f1_on_pairs\n",
    "\n",
    "```\n",
    "Пусть:\n",
    "\n",
    "    GG — множество эталонных пар (объект, признак)\n",
    "    PP — множество предсказанных пар\n",
    "\n",
    "Вычисляются:\n",
    "\n",
    "    TP = ∣G ∩ P∣ — правильно предсказанные пары\n",
    "    FP = ∣P ∖ G∣ — пары, которых не было в эталоне\n",
    "    FN = ∣G ∖ P∣ — пары, которые были в эталоне, но не найдены\n",
    "    \n",
    "    далее все по стандартным формулам\n",
    "```\n",
    "\n"
   ]
  },
  {
   "cell_type": "code",
   "execution_count": 26,
   "id": "79176aa6",
   "metadata": {},
   "outputs": [],
   "source": [
    "def evaluate_global_f1_on_pairs(gt_json: Dict, pred_json: Dict) -> Dict[str, float]:\n",
    "    \"\"\"\n",
    "    Вычисляет глобальный Precision, Recall и F1 по всем (объект, признак) парам.\n",
    "    \"\"\"\n",
    "    _, gt_pairs = extract_objects_and_attributes(gt_json)\n",
    "    _, pred_pairs = extract_objects_and_attributes(pred_json)\n",
    "\n",
    "    gt_pair_set = set(gt_pairs)\n",
    "    pred_pair_set = set(pred_pairs)\n",
    "\n",
    "    tp = len(gt_pair_set & pred_pair_set)\n",
    "    fp = len(pred_pair_set - gt_pair_set)\n",
    "    fn = len(gt_pair_set - pred_pair_set)\n",
    "\n",
    "    precision, recall, f1 = precision_recall_f1(tp, fp, fn)\n",
    "\n",
    "    return {\n",
    "        \"global_precision\": precision,\n",
    "        \"global_recall\": recall,\n",
    "        \"global_f1\": f1,\n",
    "        \"tp\": tp,\n",
    "        \"fp\": fp,\n",
    "        \"fn\": fn\n",
    "    }\n",
    "\n"
   ]
  },
  {
   "cell_type": "markdown",
   "id": "dce56264",
   "metadata": {},
   "source": [
    "**evaluate_global_f1_on_pairs** удобна для общей проверки фактов, когда не важна структура\n",
    "\n",
    "**evaluate_scene_extraction** более структурная, если нужно контролировать отдельно объектный и атрибутивный слои."
   ]
  },
  {
   "cell_type": "code",
   "execution_count": 27,
   "id": "089e6630",
   "metadata": {},
   "outputs": [
    {
     "data": {
      "text/plain": [
       "{'global_precision': 0.6,\n",
       " 'global_recall': 0.75,\n",
       " 'global_f1': 0.6666666666666665,\n",
       " 'tp': 3,\n",
       " 'fp': 2,\n",
       " 'fn': 1}"
      ]
     },
     "execution_count": 27,
     "metadata": {},
     "output_type": "execute_result"
    }
   ],
   "source": [
    "# Проверим на том же примере\n",
    "evaluate_global_f1_on_pairs(normalized_gt,normalized_pred)"
   ]
  },
  {
   "cell_type": "code",
   "execution_count": 28,
   "id": "2e6858f0",
   "metadata": {},
   "outputs": [
    {
     "data": {
      "text/plain": [
       "{'f1_object': 0.8571428571428571,\n",
       " 'f1_attribute': 0.6666666666666665,\n",
       " 'f1_combined_weighted': 0.748299319727891,\n",
       " 'f1_combined_simple': 0.7619047619047619}"
      ]
     },
     "execution_count": 28,
     "metadata": {},
     "output_type": "execute_result"
    }
   ],
   "source": [
    "# Оцениваем\n",
    "evaluate_scene_extraction(normalized_gt,normalized_pred)"
   ]
  },
  {
   "cell_type": "code",
   "execution_count": null,
   "id": "875aaa71",
   "metadata": {},
   "outputs": [],
   "source": []
  },
  {
   "cell_type": "code",
   "execution_count": null,
   "id": "0bd199c0",
   "metadata": {},
   "outputs": [],
   "source": []
  }
 ],
 "metadata": {
  "kernelspec": {
   "display_name": "Python 3 (ipykernel)",
   "language": "python",
   "name": "python3"
  },
  "language_info": {
   "codemirror_mode": {
    "name": "ipython",
    "version": 3
   },
   "file_extension": ".py",
   "mimetype": "text/x-python",
   "name": "python",
   "nbconvert_exporter": "python",
   "pygments_lexer": "ipython3",
   "version": "3.12.3"
  }
 },
 "nbformat": 4,
 "nbformat_minor": 5
}
