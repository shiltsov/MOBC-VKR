{
 "cells": [
  {
   "cell_type": "markdown",
   "id": "c1f26668",
   "metadata": {},
   "source": [
    "## Метрики качества для обучения модели предсказания пространственных связей\n",
    "\n",
    "**ВАЖНО** это не метрика оценки общего разбора сцены а метрики используемые при обучении модель определять связь между парами объектов\n",
    "\n",
    "#### Binary F1 (есть связь / нет связи)\n",
    "\n",
    "```\n",
    "True label: 1, если target != \"нет связи\", иначе 0\n",
    "Predicted label: 1, если predicted_target != \"нет связи\", иначе 0\n",
    "Считаем TP, FP, FN по обычной binary классификации\n",
    "```\n",
    "\n",
    "#### Strict F1 (точное соответствие триплета, после лемматизации разумеется)\n",
    "\n",
    "```\n",
    "Precision/Recall/F1 по триплетам (obj1, obj2, relation)\n",
    "```\n",
    "\n",
    "можно придумывать несметное количество разнообразных метрик, но какой в этом смысл? "
   ]
  },
  {
   "cell_type": "code",
   "execution_count": 3,
   "id": "7713d5be",
   "metadata": {},
   "outputs": [],
   "source": [
    "examples = [\n",
    "    {\"relation\": [\"домкрат\", \"машина\"], \"target\": \"под\", \"predicted_target\": \"под\"},\n",
    "    {\"relation\": [\"стол\", \"комната\"], \"target\": \"в\", \"predicted_target\": \"в\"},\n",
    "    {\"relation\": [\"провод\", \"книга\"], \"target\": \"нет связи\", \"predicted_target\": \"нет связи\"},\n",
    "    {\"relation\": [\"лампа\", \"дверь\"], \"target\": \"нет связи\", \"predicted_target\": \"нет связи\"},\n",
    "    {\"relation\": [\"вилка\", \"тарелка\"], \"target\": \"на\", \"predicted_target\": \"рядом с\"},\n",
    "    {\"relation\": [\"мяч\", \"пол\"], \"target\": \"на\", \"predicted_target\": \"в\"},\n",
    "    {\"relation\": [\"диван\", \"ковёр\"], \"target\": \"на\", \"predicted_target\": \"нет связи\"},\n",
    "    {\"relation\": [\"стол\", \"лампа\"], \"target\": \"под\", \"predicted_target\": \"нет связи\"},\n",
    "    {\"relation\": [\"светильник\", \"окно\"], \"target\": \"нет связи\", \"predicted_target\": \"рядом с\"},\n",
    "    {\"relation\": [\"дверь\", \"стул\"], \"target\": \"нет связи\", \"predicted_target\": \"на\"},\n",
    "    {\"relation\": [\"телевизор\", \"тумбочка\"], \"target\": \"поверх\", \"predicted_target\": \"поверх\"},\n",
    "    {\"relation\": [\"батарея\", \"стена\"], \"target\": \"прикреплён к\", \"predicted_target\": \"прикреплён к\"},\n",
    "    {\"relation\": [\"пульт\", \"телевизор\"], \"target\": \"перед\", \"predicted_target\": \"рядом с\"},\n",
    "    {\"relation\": [\"вентилятор\", \"потолок\"], \"target\": \"прикреплён к\", \"predicted_target\": \"на\"},\n",
    "    {\"relation\": [\"кресло\", \"стол\"], \"target\": \"рядом с\", \"predicted_target\": \"рядом с\"},\n",
    "    {\"relation\": [\"бутылка\", \"стена\"], \"target\": \"рядом с\", \"predicted_target\": \"рядом с\"},\n",
    "    {\"relation\": [\"шкаф\", \"коробка\"], \"target\": \"в\", \"predicted_target\": \"на\"},\n",
    "    {\"relation\": [\"коробка\", \"шкаф\"], \"target\": \"на\", \"predicted_target\": \"в\"},\n",
    "    {\"relation\": [\"чайник\", \"диван\"], \"target\": \"нет связи\", \"predicted_target\": \"нет связи\"},\n",
    "    {\"relation\": [\"часы\", \"стена\"], \"target\": \"висит на\", \"predicted_target\": \"прикреплён к\"},\n",
    "]"
   ]
  },
  {
   "cell_type": "code",
   "execution_count": 6,
   "id": "0c0da58e",
   "metadata": {},
   "outputs": [],
   "source": [
    "def evaluate_relation_predictions(data):\n",
    "    true_binary = [0 if item[\"target\"] == \"нет связи\" else 1 for item in data]\n",
    "    pred_binary = [0 if item[\"predicted_target\"] == \"нет связи\" else 1 for item in data]\n",
    "\n",
    "    # Binary F1 вручную чтобы не грузить громоздкий sklearn\n",
    "    TP = sum(1 for t, p in zip(true_binary, pred_binary) if t == 1 and p == 1)\n",
    "    FP = sum(1 for t, p in zip(true_binary, pred_binary) if t == 0 and p == 1)\n",
    "    FN = sum(1 for t, p in zip(true_binary, pred_binary) if t == 1 and p == 0)\n",
    "\n",
    "    precision_binary = TP / (TP + FP) if (TP + FP) > 0 else 0.0\n",
    "    recall_binary = TP / (TP + FN) if (TP + FN) > 0 else 0.0\n",
    "    f1_binary = (2 * precision_binary * recall_binary) / (precision_binary + recall_binary) if (precision_binary + recall_binary) > 0 else 0.0\n",
    "\n",
    "    # Strict F1 (точное совпадение метки связи)\n",
    "    TP_strict = sum(1 for item in data if item[\"target\"] == item[\"predicted_target\"])\n",
    "    FP_strict = len(data) - TP_strict  # каждая пара — один шанс на TP\n",
    "    FN_strict = FP_strict  # аналогично\n",
    "\n",
    "    precision_strict = TP_strict / (TP_strict + FP_strict) if (TP_strict + FP_strict) > 0 else 0.0\n",
    "    recall_strict = TP_strict / (TP_strict + FN_strict) if (TP_strict + FN_strict) > 0 else 0.0\n",
    "    f1_strict = (2 * precision_strict * recall_strict) / (precision_strict + recall_strict) if (precision_strict + recall_strict) > 0 else 0.0\n",
    "\n",
    "    return {\n",
    "        \"F1binary\": round(f1_binary, 4),\n",
    "        \"F1strict\": round(f1_strict, 4),\n",
    "    }\n",
    "\n"
   ]
  },
  {
   "cell_type": "code",
   "execution_count": 7,
   "id": "119663a0",
   "metadata": {},
   "outputs": [
    {
     "data": {
      "text/plain": [
       "{'F1binary': 0.8667, 'F1strict': 0.45}"
      ]
     },
     "execution_count": 7,
     "metadata": {},
     "output_type": "execute_result"
    }
   ],
   "source": [
    "evaluate_relation_predictions(examples)"
   ]
  },
  {
   "cell_type": "code",
   "execution_count": null,
   "id": "0f82a732",
   "metadata": {},
   "outputs": [],
   "source": []
  }
 ],
 "metadata": {
  "kernelspec": {
   "display_name": "Python 3 (ipykernel)",
   "language": "python",
   "name": "python3"
  },
  "language_info": {
   "codemirror_mode": {
    "name": "ipython",
    "version": 3
   },
   "file_extension": ".py",
   "mimetype": "text/x-python",
   "name": "python",
   "nbconvert_exporter": "python",
   "pygments_lexer": "ipython3",
   "version": "3.12.3"
  }
 },
 "nbformat": 4,
 "nbformat_minor": 5
}
