{
 "cells": [
  {
   "cell_type": "markdown",
   "id": "3e23cfc7",
   "metadata": {},
   "source": [
    "## Генерация датасета (упрощенная версия - баз spacial)\n",
    "\n",
    "Сложность - в REST-характере работы (без запоминания состояния). Поэтому генерация одним промптом будет давать практически идентичные сцены\n",
    "\n",
    "\n",
    "Генерируем только объекты и признаки, причем без суперсложных конструкций. Для упрощения процесса генерация происходит в несколько этапов:\n",
    "\n",
    "- выбор локации из списка (LOCATIONS)\n",
    "- запрос к LLM на генерацию объектов для локации (исключаем объекты, которые в привязке к данной локации ранее использовались чаще порогового значения\n",
    "- по каждому объекту запрос на генерацию признаков для данного объекта (заданное число признаков из неравномерного распределения - смещение в нужном нам направлении). Исключаем признаки, которые ранее появлялись слишком часто (общий список)\n",
    "- упаковываем это в json - это наше хорошее ground-truth описание объектов и призаков из сцены\n",
    "- генерируем по json описанию текстовое описание сцены. для экономии ресурсов по одной сцене делаем нескольго различных генераций (2-3). В нашей задаче степени свободы - пространственные признаки и порядок объектов и признаков в предложении, так что некоторое разнообразие будет\n",
    "\n",
    "**Замечание**: если требовалось бы геренировать тройки для spacial описаний, то нужно было бы отдельно делать запрос к LLM на предмет валидации сцены (исключить предложения вида \"автомобиль находится в чайнике\" и тп) но в задаче генерации объектов и признаков валидация избыточна так как LLM справляются хорошо"
   ]
  },
  {
   "cell_type": "code",
   "execution_count": 1,
   "id": "d93cd25c",
   "metadata": {},
   "outputs": [],
   "source": [
    "import sys\n",
    "import os\n",
    "import random\n",
    "import logging\n",
    "import json\n",
    "import copy\n",
    "\n",
    "from tqdm import tqdm\n",
    "from dotenv import load_dotenv\n",
    "from pathlib import Path\n",
    "from collections import defaultdict, Counter\n",
    "\n",
    "lib_path = os.path.abspath(os.path.join(os.getcwd(), '..'))\n",
    "sys.path.append(lib_path)\n",
    "\n",
    "#from library.locations import LOCATIONS\n",
    "from library.locations import VAL_LOCATIONS\n",
    "\n",
    "from library.llm_connector import request_llm\n",
    "from library.graph_vizualization import draw_scene_graph, scene_to_graph\n",
    "\n",
    "dotenv_path = Path(os.getcwd()).resolve().parent / '.env'\n",
    "load_dotenv(dotenv_path)\n",
    "\n",
    "LOG_FILE = \"ds_generation.log\"\n",
    "logging.basicConfig(filename=LOG_FILE, level=logging.INFO, format=\"%(asctime)s - %(levelname)s - %(message)s\")\n",
    "\n",
    "API_KEY = os.getenv(\"API_KEY\")\n",
    "API_KEY_DS = os.getenv(\"API_KEY_DS\")\n",
    "\n",
    "MAX_OBJECTS = 4\n",
    "MIN_OBJECTS = 2\n",
    "MEAN_OBJECTS = 3\n",
    "\n",
    "MAX_PROPS = 3\n",
    "MIN_PROPS = 0\n",
    "MEAN_PROPS = 1\n",
    "\n",
    "#MAX_DESCR_PER_SCENE = 3 # максимальное количество различных описаний сцен на одно json описание\n",
    "MAX_DESCR_PER_SCENE = 1\n",
    "\n",
    "# параметры батчевания\n",
    "#NUM_BATCHES = 50\n",
    "#BATCH_SIZE = 100\n",
    "\n",
    "NUM_BATCHES = 5\n",
    "BATCH_SIZE = 50\n",
    "\n",
    "#DATASET_DIR = Path(\"dataset_validation\")\n",
    "\n",
    "DATASET_DIR = Path(\"dataset_validation\")\n",
    "DATASET_DIR.mkdir(exist_ok=True)\n",
    "\n",
    "# параметры разнообразия\n",
    "PROPERTY_THRESHOLD = 75  # N — порог по признакам\n",
    "OBJECT_THRESHOLD = 75    # M — порог по объектам"
   ]
  },
  {
   "cell_type": "code",
   "execution_count": null,
   "id": "2d46d60c",
   "metadata": {},
   "outputs": [],
   "source": []
  },
  {
   "cell_type": "markdown",
   "id": "50ba1768",
   "metadata": {},
   "source": [
    "### Генерация объектов"
   ]
  },
  {
   "cell_type": "code",
   "execution_count": 2,
   "id": "50935d17",
   "metadata": {},
   "outputs": [],
   "source": [
    "def generate_objects(location, n_objects, exclude_objects_dict):\n",
    "    \n",
    "    exclude_objects = exclude_objects_dict.get(location,\"\")    \n",
    "    \n",
    "    prompt = f\"\"\"\n",
    "    Локация: {location}. Назови {n_objects} строго предметов которые могут находиться в этой локации.\n",
    "    Избегай объекты, состоящие не из одного слова. Избегай объекты, не являющиеся предметами (\"музыка\", \"атмосфера\",\n",
    "    \"перекус\", \"воздух\", \"разлив\" и тд). Нельзя выдавать слова, не являющиеся объектами (\"душевое\", \"зубная\" и тд)\n",
    "    и появление которых в этой локации маловероятно. Если предметов несколько, все они должны быть различными.\n",
    "    \"\"\"\n",
    "    if len(exclude_objects) > 0:\n",
    "        prompt += f\"\\nНельзя использовать предметы: {', '.join(exclude_objects)}.\\n\" \n",
    "\n",
    "    \n",
    "    prompt += f\"\"\"\n",
    "    Ответ выдай в начальной форме слова  (именительный падеж единственного числа). \n",
    "    Результат выведи строго в json строго в формате\n",
    "\n",
    "    {{\n",
    "        'objects':['объект1', 'объект2']\n",
    "    }}\n",
    "    \"\"\"    \n",
    "    #print(prompt)\n",
    "    \n",
    "    # deepseek-chat дает более адекватную выдачу по сравнению с gpt-4o-mini\n",
    "    objects = request_llm(\n",
    "        prompt, API_KEY_DS, temperature=0.7, max_tokens=1000, \n",
    "        model='deepseek-chat', platform='deepseek', response_type=\"json_object\")\n",
    "\n",
    "    #print(objects)    \n",
    "    return objects"
   ]
  },
  {
   "cell_type": "markdown",
   "id": "e4ea05d7",
   "metadata": {},
   "source": [
    "### Генерация объектов: проверка"
   ]
  },
  {
   "cell_type": "code",
   "execution_count": 3,
   "id": "7c6b47aa",
   "metadata": {},
   "outputs": [],
   "source": [
    "# объекты, которые исключены из генерации\n",
    "# будем собирать списки отдельно по локациям, чтобы не смешивать\n",
    "exclude_objects_dict = {\n",
    "    \"санузел\": [\"унитаз\", \"раковина\", \"душ\", \"зеркало\",\"стиральная машина\",\"гладильная доска\"],\n",
    "    \"комната\": [\"кровать\",\"шкаф\",\"стул\", \"стол\", \"компьютер\", \"книга\", \"лампа\", \"ковер\"]\n",
    "}"
   ]
  },
  {
   "cell_type": "code",
   "execution_count": 4,
   "id": "4a344bca",
   "metadata": {},
   "outputs": [
    {
     "name": "stdout",
     "output_type": "stream",
     "text": [
      "комната 5\n"
     ]
    }
   ],
   "source": [
    "# выбираем локацию и количество обхектов\n",
    "location = \"комната\"  # random.choice(LOCATIONS)\n",
    "n_objects = 5        #random.randint(MIN_OBJECTS, MAX_OBJECTS)\n",
    "\n",
    "print(location, n_objects)"
   ]
  },
  {
   "cell_type": "code",
   "execution_count": 5,
   "id": "ccaa84f7",
   "metadata": {},
   "outputs": [],
   "source": [
    "# deepseek-chat дает более адекватную выдачу по сравнению с gpt-4o-mini\n",
    "objects = generate_objects(location, n_objects, exclude_objects_dict)\n",
    "objects = json.loads(objects)"
   ]
  },
  {
   "cell_type": "code",
   "execution_count": 6,
   "id": "381bd080",
   "metadata": {},
   "outputs": [
    {
     "name": "stdout",
     "output_type": "stream",
     "text": [
      "{'objects': ['зеркало', 'телевизор', 'картина', 'ваза', 'часы']}\n"
     ]
    }
   ],
   "source": [
    "print(objects)"
   ]
  },
  {
   "cell_type": "markdown",
   "id": "2b5f345c",
   "metadata": {},
   "source": [
    "## Генерация призанков по данному объекту"
   ]
  },
  {
   "cell_type": "code",
   "execution_count": 7,
   "id": "623f8a1e",
   "metadata": {},
   "outputs": [],
   "source": [
    "def generate_properties(obj, n_props, exclude_properties_list):\n",
    "    # exclude_properties_list - будем отсекать частые свойства в общем списке\n",
    "    \n",
    "    prompt = f\"\"\"\n",
    "    Тебе дан предмет \"{obj}\". Назови {n_props} его свойств. Это может быть размер, цвет, форма, вес и тд.\n",
    "    Избегай свойства, состоящие не из одного слова. Избегай свойства, которыев реальном мире редко соответствуют \n",
    "    данному объекту или не соответствуют вообще (\"стеклянный молоток\", \"тканевый шкаф\" и тд). Свойство не может \n",
    "    быть существительным \n",
    "    \"\"\"\n",
    "    if len(exclude_properties_list) > 0:\n",
    "        prompt += f\"\\nНельзя использовать свойства: {', '.join(exclude_properties_list)}.\\n\" \n",
    "\n",
    "    \n",
    "    prompt += f\"\"\"\n",
    "    Ответ выдай в форме, согласованной с формой в которой дан объект (род, число, падеж) по правилам русского языка. \n",
    "    Результат выведи строго в json строго в формате\n",
    "\n",
    "    {{\n",
    "        '{obj}':['свойство1', 'свойство2']\n",
    "    }}\n",
    "    \"\"\"    \n",
    "    #print(prompt)\n",
    "    \n",
    "    # deepseek-chat дает более адекватную выдачу по сравнению с gpt-4o-mini\n",
    "    props = request_llm(\n",
    "        prompt, API_KEY_DS, temperature=0.7, max_tokens=1000, \n",
    "        model='deepseek-chat', platform='deepseek', response_type=\"json_object\")\n",
    "\n",
    "    #print(props)    \n",
    "    return props"
   ]
  },
  {
   "cell_type": "markdown",
   "id": "fe2b4e7f",
   "metadata": {},
   "source": [
    "### Генерация призанков: тестируем"
   ]
  },
  {
   "cell_type": "code",
   "execution_count": 8,
   "id": "cc43ded9",
   "metadata": {},
   "outputs": [
    {
     "name": "stdout",
     "output_type": "stream",
     "text": [
      "{\n",
      "    \"подушка\": [\"круглая\", \"тяжелая\", \"гладкая\", \"ароматная\", \"упругая\"]\n",
      "}\n"
     ]
    }
   ],
   "source": [
    "exclude_properties_list = [\"синяя\",\"тупая\",\"мягкая\", \"квадратная\", \"легкая\", \"пушистая\", \"белая\"]\n",
    "props = generate_properties(\"подушка\", 5, exclude_properties_list)\n",
    "print(props)"
   ]
  },
  {
   "cell_type": "markdown",
   "id": "79c4cbd7",
   "metadata": {},
   "source": [
    "## Генерация одной сцены (json)"
   ]
  },
  {
   "cell_type": "code",
   "execution_count": 9,
   "id": "97b3e15f",
   "metadata": {},
   "outputs": [],
   "source": [
    "# для выбора числа прилагательных по заданному существительному.\n",
    "# у нас в среднем должно получаться не равномерно\n",
    "def biased_random_chioce(n, m, k):\n",
    "    values = list(range(n, m + 1))\n",
    "    weights = [1 / (1 + abs(x - k)) for x in values]\n",
    "    weights = [w ** 1.3 for w in weights]\n",
    "\n",
    "    return random.choices(values, weights=weights, k=1)[0]"
   ]
  },
  {
   "cell_type": "code",
   "execution_count": 10,
   "id": "3cd207b2",
   "metadata": {},
   "outputs": [],
   "source": [
    "exclude_properties_list = [\"синяя\",\"тупая\",\"мягкая\", \"квадратная\", \"легкая\", \"пушистая\", \"белая\"]\n",
    "exclude_objects_dict = {\n",
    "    \"санузел\": [\"унитаз\", \"раковина\", \"душ\", \"зеркало\",\"стиральная машина\",\"гладильная доска\"],\n",
    "    \"комната\": [\"кровать\",\"шкаф\",\"стул\", \"стол\", \"компьютер\", \"книга\", \"лампа\", \"ковер\"]\n",
    "}"
   ]
  },
  {
   "cell_type": "code",
   "execution_count": 11,
   "id": "42a4f631",
   "metadata": {},
   "outputs": [],
   "source": [
    "def generate_scene(exclude_objects_dict = dict(), exclude_properties_list = []):\n",
    "    # выбираем локацию и количество обхектов\n",
    "    location = random.choice(VAL_LOCATIONS)\n",
    "    n_objects = biased_random_chioce(MIN_OBJECTS, MAX_OBJECTS, MEAN_OBJECTS)\n",
    "    \n",
    "    result = {'location': location, 'objects':[]}\n",
    "    #print(result)\n",
    "    objects = generate_objects(location, n_objects, exclude_objects_dict)\n",
    "    objects = json.loads(objects)\n",
    "    #print(objects)\n",
    "    \n",
    "    for obj in objects['objects']:\n",
    "        #print(obj)\n",
    "        n_props = biased_random_chioce(MIN_PROPS, MAX_PROPS, MEAN_PROPS)\n",
    "        if n_props > 0:\n",
    "            props = dict(json.loads(generate_properties(obj, n_props, exclude_properties_list)))\n",
    "            result['objects'].append(props)\n",
    "        else:\n",
    "            result['objects'].append({obj: []})    \n",
    "            \n",
    "    return result\n",
    "   \n",
    "    "
   ]
  },
  {
   "cell_type": "code",
   "execution_count": 12,
   "id": "a2cbbc03",
   "metadata": {
    "scrolled": false
   },
   "outputs": [
    {
     "name": "stdout",
     "output_type": "stream",
     "text": [
      "{\n",
      "  \"location\": \"пекарня\",\n",
      "  \"objects\": [\n",
      "    {\n",
      "      \"тесто\": [\n",
      "        \"липкое\"\n",
      "      ]\n",
      "    },\n",
      "    {\n",
      "      \"печь\": [\n",
      "        \"горячая\"\n",
      "      ]\n",
      "    },\n",
      "    {\n",
      "      \"мука\": [\n",
      "        \"белая\"\n",
      "      ]\n",
      "    },\n",
      "    {\n",
      "      \"ножи\": [\n",
      "        \"острые\"\n",
      "      ]\n",
      "    }\n",
      "  ]\n",
      "}\n"
     ]
    }
   ],
   "source": [
    "scene = generate_scene()\n",
    "scene_text = json.dumps(scene, ensure_ascii=False, indent=2)\n",
    "print(scene_text)"
   ]
  },
  {
   "cell_type": "markdown",
   "id": "b2061d81",
   "metadata": {},
   "source": [
    "## Проверим итоговую генерацию сцены на графе"
   ]
  },
  {
   "cell_type": "code",
   "execution_count": 13,
   "id": "65ac2609",
   "metadata": {},
   "outputs": [
    {
     "name": "stdout",
     "output_type": "stream",
     "text": [
      "{'location': 'пекарня', 'objects': [{'тесто': ['липкое']}, {'печь': ['горячая']}, {'мука': ['белая']}, {'ножи': ['острые']}]}\n"
     ]
    },
    {
     "data": {
      "image/png": "[encoded data removed]",
      "text/plain": [
       "<Figure size 1440x960 with 1 Axes>"
      ]
     },
     "metadata": {},
     "output_type": "display_data"
    }
   ],
   "source": [
    "print(scene)\n",
    "G = scene_to_graph(scene)\n",
    "draw_scene_graph(G)"
   ]
  },
  {
   "cell_type": "markdown",
   "id": "e5558756",
   "metadata": {},
   "source": [
    "## Заворачивание json в сцену и валидация\n",
    "\n",
    "Перемешивая порядок объектов и порядок признаков мы можем по одному и тому же json делать несколько \n",
    "различных генераций что ускорит создание датасета."
   ]
  },
  {
   "cell_type": "code",
   "execution_count": 14,
   "id": "96bbcc1a",
   "metadata": {},
   "outputs": [],
   "source": [
    "def shuffle_scene(scene: dict) -> dict:\n",
    "    # Глубокая копия, чтобы не менять оригинал\n",
    "    shuffled_scene = copy.deepcopy(scene)\n",
    "    \n",
    "    # Перемешиваем порядок объектов\n",
    "    random.shuffle(shuffled_scene[\"objects\"])\n",
    "\n",
    "    # Перемешиваем признаки внутри каждого объекта\n",
    "    for obj in shuffled_scene[\"objects\"]:\n",
    "        for obj_name, attributes in obj.items():\n",
    "            random.shuffle(attributes)\n",
    "\n",
    "    return shuffled_scene\n",
    "\n",
    "def generate_description(scene):\n",
    "    # генерируем сцену по заданному json\n",
    "    scene_data = shuffle_scene(scene)\n",
    "    #print(scene_data)\n",
    "    prompt = f\"\"\"\n",
    "Ты — помощник, создающий описание сцены строго по заданной структуре.\n",
    "\n",
    "Соблюдай следующие правила:\n",
    "\n",
    "1. Упомяни **все объекты**, указанные в структуре, ровно один раз, в порядке в каком они заданы. \n",
    "   Первый объект — это главный объект описания.\n",
    "   Упоминание в пространственном отношении тоже считается упоминанием.\n",
    "2. Перечисли **все признаки** каждого объекта (при наличии), ровно один раз для каждого признака объекта.\n",
    "3. **Разрешено использовать только пространственные связи между заданными объектами**.\n",
    "   - Например, если заданы объекты \"кий\" и \"шар\" то \"кий лежит рядом с шаром» — корректно.\n",
    "   - при описании пространственных связей запрещено использовать существительные и местоимения.\n",
    "4. **Не добавляй новых объектов или признаков**, не используй синонимов или обобщений.\n",
    "5. Не упоминай название локации.\n",
    "6. Не используй вступительные фразы вроде \"В сцене изображен...\" — начни сразу с описания.\n",
    "7. Букву \"ё\" заменяй на \"е\".\n",
    "\n",
    "Объекты: упомяни **только один раз каждый объект**, и постарайся **естественным образом связать их между собой**, \n",
    "если это возможно.\n",
    "\n",
    "Запрещено упоминать какие-либо объекты, которых нет в структуре сцены, даже если они подразумеваются \n",
    "контекстом (например: \"стол\", \"пол\", \"поверхность\", \"платформа\", \"стена\", \"фон\", \"ткань\", \"сукно\", \"освещение\" и т.д.).\n",
    "Нельзя использовать эти слова даже как часть пространственного описания.\n",
    "\n",
    "Если у объектов нет признаков, опиши их взаимное расположение только через прямую связь между ними. \n",
    "Например для описания  {{'location': 'бильярдная', 'objects': [{{'кий': []}}, {{'шар': []}}]}}:\n",
    "\"Шар лежит рядом с кием\" — корректно. 'Шар лежит на столе, рядом с ним стоит кий.' - некорректно\n",
    "\n",
    "        {json.dumps(scene_data, ensure_ascii=False, indent=2)}\n",
    "   \n",
    "\"\"\"\n",
    "\n",
    "    #print(prompt)\n",
    "    \n",
    "    # deepseek-chat снова дает более адекватную выдачу по сравнению с gpt-4o-mini\n",
    "    description = request_llm(\n",
    "        prompt, API_KEY_DS, temperature=0.8, max_tokens=1000, \n",
    "        model='deepseek-chat', platform='deepseek', response_type=\"text\")\n",
    "    \n",
    "    #description = request_llm(\n",
    "    #    prompt, API_KEY, temperature=0.1, max_tokens=1000, \n",
    "    #    model='gpt-4o-mini', platform='openai', response_type=\"text\")    \n",
    "\n",
    "    #print(description)    \n",
    "    return description"
   ]
  },
  {
   "cell_type": "code",
   "execution_count": 15,
   "id": "e43940be",
   "metadata": {},
   "outputs": [],
   "source": [
    "scene = {'location': 'больница', 'objects': [{'пациент': ['длинный', 'толстый']}, {'кушетка': ['грязный']}]}\n",
    "#scene = {'location': 'больница', 'objects': [{'пациент': []}, {'кушетка': ['грязный','старый']}]}\n",
    "#scene = {'location': 'больница', 'objects': [{'пациент': []}, {'кушетка': []}]}"
   ]
  },
  {
   "cell_type": "code",
   "execution_count": 16,
   "id": "724e5816",
   "metadata": {
    "scrolled": false
   },
   "outputs": [
    {
     "name": "stdout",
     "output_type": "stream",
     "text": [
      "Грязная кушетка стоит рядом с толстым и длинным пациентом.\n"
     ]
    }
   ],
   "source": [
    "generated_descriptions = []\n",
    "for i in range(5):\n",
    "    description = generate_description(scene)\n",
    "    print(description)\n",
    "    if description not in generated_descriptions:\n",
    "        generated_descriptions.append(description)\n",
    "        if len(generated_descriptions) >= MAX_DESCR_PER_SCENE:\n",
    "            break\n",
    "        "
   ]
  },
  {
   "cell_type": "code",
   "execution_count": 17,
   "id": "5b9f8c20",
   "metadata": {},
   "outputs": [
    {
     "data": {
      "text/plain": [
       "['Грязная кушетка стоит рядом с толстым и длинным пациентом.']"
      ]
     },
     "execution_count": 17,
     "metadata": {},
     "output_type": "execute_result"
    }
   ],
   "source": [
    "generated_descriptions"
   ]
  },
  {
   "cell_type": "markdown",
   "id": "c64057bf",
   "metadata": {},
   "source": [
    "### Итоговая генерация датасета"
   ]
  },
  {
   "cell_type": "code",
   "execution_count": 18,
   "id": "83be3f0f",
   "metadata": {
    "scrolled": false
   },
   "outputs": [
    {
     "name": "stderr",
     "output_type": "stream",
     "text": [
      "Батч 000: 100%|████████████████████████████████████████| 50/50 [20:21<00:00, 24.42s/сцена]\n",
      "Батч 001: 100%|████████████████████████████████████████| 50/50 [18:32<00:00, 22.26s/сцена]\n",
      "Батч 002: 100%|████████████████████████████████████████| 50/50 [20:18<00:00, 24.37s/сцена]\n",
      "Батч 003: 100%|████████████████████████████████████████| 50/50 [20:50<00:00, 25.00s/сцена]\n",
      "Батч 004: 100%|████████████████████████████████████████| 50/50 [20:16<00:00, 24.34s/сцена]\n"
     ]
    }
   ],
   "source": [
    "# Определение, с какого батча начинать\n",
    "existing = {f.name for f in DATASET_DIR.glob(\"dataset_batch_*.jsonl\")}\n",
    "\n",
    "start_batch = 0\n",
    "while f\"dataset_batch_{start_batch:03}.jsonl\" in existing:\n",
    "    start_batch += 1\n",
    "\n",
    "#print(start_batch)    \n",
    "    \n",
    "# Основной цикл\n",
    "for batch_num in range(start_batch, NUM_BATCHES):\n",
    "    \n",
    "    # после каждого батча собираем словари запретных слов\n",
    "    \n",
    "    property_counter = Counter()\n",
    "    object_counter_by_location = defaultdict(Counter)\n",
    "\n",
    "    # Обход всех jsonl-файлов\n",
    "    for file in DATASET_DIR.glob(\"dataset_batch_*.jsonl\"):\n",
    "        with open(file, \"r\", encoding=\"utf-8\") as f:\n",
    "            for line in f:\n",
    "                item = json.loads(line)\n",
    "                scene = item[\"scene\"]\n",
    "                location = scene[\"location\"]\n",
    "                for obj in scene[\"objects\"]:\n",
    "                    for name, props in obj.items():\n",
    "                        object_counter_by_location[location][name] += 1\n",
    "                        property_counter.update(props)\n",
    "\n",
    "    # Формируем exclude lists\n",
    "    exclude_properties_list = [prop for prop, count in property_counter.items() if count > PROPERTY_THRESHOLD]\n",
    "\n",
    "    exclude_objects_dict = {\n",
    "        loc: [obj for obj, count in obj_counter.items() if count > OBJECT_THRESHOLD]\n",
    "        for loc, obj_counter in object_counter_by_location.items()\n",
    "    }\n",
    "    #print(exclude_properties_list, exclude_objects_dict)\n",
    "    \n",
    "    \n",
    "    results = []\n",
    "    logging.info(f\"Генерация батча #{batch_num}\")\n",
    "\n",
    "    with tqdm(total=BATCH_SIZE, desc=f\"Батч {batch_num:03}\", unit=\"сцена\", ncols=90) as pbar:\n",
    "        while len(results) < BATCH_SIZE:\n",
    "            scene = generate_scene(exclude_objects_dict, exclude_properties_list)\n",
    "            \n",
    "            # по каждой сцене можем генерить несколько разных описаний\n",
    "            generated_descriptions = []\n",
    "            for i in range(5):\n",
    "                description = generate_description(scene)\n",
    "                if description not in generated_descriptions:\n",
    "                    generated_descriptions.append(description)\n",
    "                    results.append({\"scene\": scene, \"description\": description})\n",
    "                    pbar.update(1)\n",
    "                    if len(generated_descriptions) >= MAX_DESCR_PER_SCENE:\n",
    "                        break            \n",
    "                    \n",
    "    # Сохраняем файл\n",
    "    file_path = DATASET_DIR / f\"dataset_batch_{batch_num:03}.jsonl\"\n",
    "    try:\n",
    "        with open(file_path, \"w\", encoding=\"utf-8\") as f:\n",
    "            for item in results:\n",
    "                f.write(json.dumps(item, ensure_ascii=False) + \"\\n\")\n",
    "        logging.info(f\"Батч #{batch_num} сохранён в {file_path}\\n\")\n",
    "    except Exception as e:\n",
    "        logging.error(f\"Ошибка записи батча #{batch_num}: {e}\")"
   ]
  },
  {
   "cell_type": "markdown",
   "id": "dfcf8290",
   "metadata": {},
   "source": [
    "### Тестовое построение сцен на отдельном баче"
   ]
  },
  {
   "cell_type": "code",
   "execution_count": null,
   "id": "90f4472c",
   "metadata": {
    "scrolled": false
   },
   "outputs": [],
   "source": [
    "BATCH_NUM = \"000\"\n",
    "with open(f\"{DATASET_DIR}/dataset_batch_{BATCH_NUM}.jsonl\", \"r\", encoding=\"utf-8\") as f:\n",
    "    for i, line in enumerate(f, 1):\n",
    "        data = json.loads(line)\n",
    "        print(\"\\nsrc_text:\", data.get(\"description\", \"\"))\n",
    "        scene = data.get(\"scene\", \"\")\n",
    "        print(scene)\n",
    "        G = scene_to_graph(scene)\n",
    "        draw_scene_graph(G)  "
   ]
  },
  {
   "cell_type": "code",
   "execution_count": null,
   "id": "a2af4401",
   "metadata": {},
   "outputs": [],
   "source": []
  }
 ],
 "metadata": {
  "kernelspec": {
   "display_name": "Python 3 (ipykernel)",
   "language": "python",
   "name": "python3"
  },
  "language_info": {
   "codemirror_mode": {
    "name": "ipython",
    "version": 3
   },
   "file_extension": ".py",
   "mimetype": "text/x-python",
   "name": "python",
   "nbconvert_exporter": "python",
   "pygments_lexer": "ipython3",
   "version": "3.12.3"
  }
 },
 "nbformat": 4,
 "nbformat_minor": 5
}
