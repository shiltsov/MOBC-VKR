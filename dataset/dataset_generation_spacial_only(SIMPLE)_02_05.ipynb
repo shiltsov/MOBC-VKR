{
 "cells": [
  {
   "cell_type": "markdown",
   "id": "d76b3959",
   "metadata": {},
   "source": [
    "### Преобразование базового датасета в датасет для тренировки выделения связей\n",
    "\n",
    "У нас есть датасет с записями вида\n",
    "\n",
    "```\n",
    "{\n",
    "    \"scene\": \n",
    "        {\n",
    "            \"location\": \"тренажерный зал\", \n",
    "            \"objects\": [\n",
    "                {\"гантель\": [\"тяжёлая\"]}, \n",
    "                {\"штанга\": [\"тяжелая\", \"металлическая\"]}, \n",
    "                {\"скамья\": [\"деревянная\", \"тяжелая\"]}\n",
    "            ], \n",
    "            \"relations\": [\n",
    "                [\"гантель\", \"на\", \"скамья\"], \n",
    "                [\"гантель\", \"рядом с\", \"штанга\"]\n",
    "            ]\n",
    "        }, \n",
    "     \"description\": \"Тяжелая гантель лежит на деревянной тяжелой скамье рядом с тяжелой металлической штангой.\"\n",
    "}\n",
    "```\n",
    "\n",
    "будем преобразовывать его в новый датасет для обучения T5ru выделения не только связей между объектами но и типов связи (собственно если не нужно определять тип связи то подошел бы и BERT в качестве классификатора на парах)\n",
    "\n",
    "\n",
    "структура датасета\n",
    "\n",
    "```\n",
    "{\n",
    "    \"description\": \"Тяжелая гантель лежит на деревянной тяжелой скамье рядом с тяжелой металлической штангой.\"\n",
    "    \"relation\": [\"гантель\", \"на\", \"скамья\"],\n",
    "    \"target\": \"на\"\n",
    "}\n",
    "\n",
    "{\n",
    "    \"description\": \"Тяжелая гантель лежит на деревянной тяжелой скамье рядом с тяжелой металлической штангой.\"\n",
    "    \"relation\": [\"гантель\", \"на\", \"штанга\"],\n",
    "    \"target\": \"нет связи\"\n",
    "}\n",
    "\n",
    "```\n",
    "\n",
    "в датасет помещаем примерно в равных количествах верные связи, отсутствующие связи.\n",
    "Учим модель угадывать связь. \n",
    "\n",
    "\n",
    "неверные связи (связь есть но неверно выделена) - такое пока не делаем, думаю что в первом приближении пусть хоть как-то определяет тип связи, сосредоточимся на \"есть связь\" - \"нет связи\". \n",
    "\n",
    "\n",
    "Такой подход нам позволяет учиться на правильно выделенных объектах а в проде если объекты выделены не все или неверно делать предикты только на парах объектов которые выделила первая модель (модель выделяющая объекты и признаки)\n",
    "\n",
    "То есть мы учим модели независимо - одну выделять объекты и их признаки другую - по выделенным (возможно частично или ошибочно) признакам выделять связи и определять их характер\n",
    "\n",
    "**Замечание**\n",
    "\n",
    "мы даем в датасет все верные связи (N), N/2 инвертированных с меткой \"нет связи\" и еще N негативных с меткой \"нет связи\". Именно такие пропорции чтобы модель не отмахивалась и не ставила \"нет связи\" вообще везде. "
   ]
  },
  {
   "cell_type": "code",
   "execution_count": 19,
   "id": "7b46c9f4",
   "metadata": {},
   "outputs": [],
   "source": [
    "import json\n",
    "import random\n",
    "from itertools import permutations\n",
    "from pathlib import Path\n",
    "from typing import List, Tuple\n"
   ]
  },
  {
   "cell_type": "code",
   "execution_count": 67,
   "id": "9112da48",
   "metadata": {},
   "outputs": [],
   "source": [
    "def load_jsonl(path: Path) -> List[dict]:\n",
    "    with path.open(encoding=\"utf-8\") as f:\n",
    "        return [json.loads(line) for line in f]\n",
    "\n",
    "def extract_object_names(object_list: List[dict]) -> List[str]:\n",
    "    return [list(obj.keys())[0] for obj in object_list]\n",
    "\n",
    "def build_input(description: str, obj1: str, obj2: str) -> str:\n",
    "    return json.dumps([obj1, obj2], ensure_ascii=False)\n",
    "\n",
    "def get_relations_lookup(relations: List[Tuple[str, str, str]]) -> dict:\n",
    "    return {(o1, o2): rel for o1, rel, o2 in relations}\n",
    "\n",
    "def build_directional_dataset_from_jsonl_file(path: Path) -> List[dict]:\n",
    "    \"\"\"Build dataset with correct, inverted, and negative object pairs.\"\"\"\n",
    "    data = load_jsonl(path)\n",
    "    results = []\n",
    "\n",
    "    for record in data:\n",
    "        desc = record[\"description\"]\n",
    "        scene = record[\"scene\"]\n",
    "        object_names = extract_object_names(scene[\"objects\"])\n",
    "\n",
    "        if len(object_names) < 2:\n",
    "            continue\n",
    "\n",
    "        true_relations = scene.get(\"relations\", [])\n",
    "\n",
    "        rel_lookup = get_relations_lookup(true_relations)\n",
    "        true_pairs = list(rel_lookup.keys())\n",
    "        all_possible_pairs = list(permutations(object_names, 2))\n",
    "\n",
    "        # 1. Истинные пары\n",
    "        for obj1, obj2 in true_pairs:\n",
    "            relation = [obj1, obj2]\n",
    "            target = rel_lookup[(obj1, obj2)]\n",
    "            results.append({\"description\": desc, \"relation\": relation, \"target\": target})\n",
    "\n",
    "        N = len(true_pairs)\n",
    "\n",
    "        # 2. Инвертированные пары — подаём в обратном порядке, метка \"нет связи\"\n",
    "        inverted_candidates = [(b, a) for a, b in true_pairs if (b, a) not in rel_lookup]\n",
    "        sampled_inverted = random.sample(inverted_candidates, min(N // 2, len(inverted_candidates)))\n",
    "        for obj1, obj2 in sampled_inverted:\n",
    "            relation = [obj1, obj2] \n",
    "            results.append({\"description\": desc, \"relation\": relation, \"target\": \"нет связи\"})\n",
    "\n",
    "        # 3. Пары без связи вообще\n",
    "        negative_candidates = [\n",
    "            (a, b) for a, b in all_possible_pairs\n",
    "            if (a, b) not in rel_lookup and (b, a) not in rel_lookup\n",
    "        ]\n",
    "        sampled_negatives = random.sample(negative_candidates, min(N, len(negative_candidates)))\n",
    "        for obj1, obj2 in sampled_negatives:\n",
    "            relation = [obj1, obj2]\n",
    "            results.append({\"description\": desc, \"relation\": relation, \"target\": \"нет связи\"})\n",
    "\n",
    "    return results"
   ]
  },
  {
   "cell_type": "code",
   "execution_count": 69,
   "id": "166650da",
   "metadata": {
    "scrolled": false
   },
   "outputs": [],
   "source": [
    "#build_directional_dataset_from_jsonl_file(Path(\"dataset_syntetic_v5_spacial_only/src/dataset_spacial_batch_000.jsonl\"))"
   ]
  },
  {
   "cell_type": "code",
   "execution_count": 70,
   "id": "137cb082",
   "metadata": {},
   "outputs": [],
   "source": [
    "def build_directional_dataset_from_all_batches(\n",
    "    input_dir: Path,\n",
    "    output_dir: Path,\n",
    "    pattern: str = \"dataset_spacial_batch_*.jsonl\",\n",
    "    output_prefix: str = \"spatial_relations_batch_\"\n",
    ") -> int:\n",
    "    \n",
    "    output_dir.mkdir(parents=True, exist_ok=True)\n",
    "    total_records = 0\n",
    "\n",
    "    for idx, path in enumerate(sorted(input_dir.glob(pattern))):\n",
    "        batch_data = build_directional_dataset_from_jsonl_file(path)\n",
    "        total_records += len(batch_data)\n",
    "\n",
    "        output_path = output_dir / f\"{output_prefix}{idx:03d}.jsonl\"\n",
    "        with output_path.open(\"w\", encoding=\"utf-8\") as f:\n",
    "            for record in batch_data:\n",
    "                json.dump(record, f, ensure_ascii=False)\n",
    "                f.write(\"\\n\")\n",
    "\n",
    "    return total_records\n"
   ]
  },
  {
   "cell_type": "code",
   "execution_count": 72,
   "id": "f8655b75",
   "metadata": {},
   "outputs": [
    {
     "data": {
      "text/plain": [
       "21671"
      ]
     },
     "execution_count": 72,
     "metadata": {},
     "output_type": "execute_result"
    }
   ],
   "source": [
    "build_directional_dataset_from_all_batches(\n",
    "    Path(\"dataset_syntetic_v5_spacial\"),\n",
    "    Path(\"dataset_syntetic_v5_spacial_only\")\n",
    ")"
   ]
  },
  {
   "cell_type": "markdown",
   "id": "3801ab88",
   "metadata": {},
   "source": [
    "### Результат - получили датасет из 21671 записей (текст+ пара+связь)"
   ]
  },
  {
   "cell_type": "code",
   "execution_count": null,
   "id": "212b625e",
   "metadata": {},
   "outputs": [],
   "source": []
  }
 ],
 "metadata": {
  "kernelspec": {
   "display_name": "Python 3 (ipykernel)",
   "language": "python",
   "name": "python3"
  },
  "language_info": {
   "codemirror_mode": {
    "name": "ipython",
    "version": 3
   },
   "file_extension": ".py",
   "mimetype": "text/x-python",
   "name": "python",
   "nbconvert_exporter": "python",
   "pygments_lexer": "ipython3",
   "version": "3.12.3"
  }
 },
 "nbformat": 4,
 "nbformat_minor": 5
}
