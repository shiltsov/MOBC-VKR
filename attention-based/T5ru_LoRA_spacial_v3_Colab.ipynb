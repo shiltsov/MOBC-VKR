{
 "cells": [
  {
   "cell_type": "code",
   "execution_count": null,
   "metadata": {
    "id": "U8VJkgPzshDZ"
   },
   "outputs": [],
   "source": []
  },
  {
   "cell_type": "markdown",
   "metadata": {
    "id": "rG6xS6zts22A"
   },
   "source": [
    "### Работа с пространственными связями в описании сцен\n",
    "\n",
    "работаем с предобработанным датасетом\n",
    "\n",
    "структура датасета\n",
    "\n",
    "```\n",
    "{\n",
    "    \"description\": \"Тяжелая гантель лежит на деревянной тяжелой скамье рядом с тяжелой металлической штангой.\"\n",
    "    \"relation\": [\"гантель\", \"на\", \"скамья\"],\n",
    "    \"target\": \"на\"\n",
    "}\n",
    "\n",
    "{\n",
    "    \"description\": \"Тяжелая гантель лежит на деревянной тяжелой скамье рядом с тяжелой металлической штангой.\"\n",
    "    \"relation\": [\"гантель\", \"на\", \"штанга\"],\n",
    "    \"target\": \"нет связи\"\n",
    "}\n",
    "\n",
    "```\n",
    "\n",
    "задача модели - по заданному тексту (\"description\") и заданной паре ([\"гантель\", \"скамья\"]) угадать пространственную связь (\"на\")\n",
    "\n",
    "\n",
    "модель T5rus с промптом + LoRA - потому что мы будем генерировать связь по паре объектов"
   ]
  },
  {
   "cell_type": "code",
   "execution_count": 1,
   "metadata": {
    "colab": {
     "base_uri": "https://localhost:8080/"
    },
    "id": "vYMACwoMs8vA",
    "outputId": "09f26293-862d-47df-ba82-cc94e24a070d"
   },
   "outputs": [
    {
     "name": "stdout",
     "output_type": "stream",
     "text": [
      "Drive already mounted at /content/drive; to attempt to forcibly remount, call drive.mount(\"/content/drive\", force_remount=True).\n",
      "total 24\n",
      "drwx------ 3 root root 4096 Apr 27 05:50 dataset\n",
      "drwx------ 3 root root 4096 Apr 27 05:53 library\n",
      "drwx------ 2 root root 4096 Apr 29 09:32 metrics_T5ru\n",
      "drwx------ 2 root root 4096 Apr 29 09:32 T5ru_lora_outputs\n",
      "drwx------ 2 root root 4096 Apr 30 17:28 T5ru_PsC_lora_outputs\n",
      "drwx------ 2 root root 4096 May  2 19:49 T5ru_spacial_lora_outputs\n"
     ]
    }
   ],
   "source": [
    "from google.colab import drive\n",
    "drive.mount('/content/drive')\n",
    "\n",
    "!ls -la /content/drive/MyDrive/VKR/"
   ]
  },
  {
   "cell_type": "code",
   "execution_count": 2,
   "metadata": {
    "id": "Zo3N49gWutju"
   },
   "outputs": [],
   "source": [
    "!pip install -U spacy > /dev/null 2>&1\n",
    "!python -m spacy download ru_core_news_sm > /dev/null 2>&1\n",
    "!pip install wandb > /dev/null 2>&1\n",
    "!pip install datasets > /dev/null 2>&1"
   ]
  },
  {
   "cell_type": "code",
   "execution_count": 3,
   "metadata": {
    "colab": {
     "base_uri": "https://localhost:8080/"
    },
    "id": "M6zOl6ynvt7o",
    "outputId": "f4aca51e-5e23-4640-b326-93bdde8bfcc2"
   },
   "outputs": [
    {
     "name": "stdout",
     "output_type": "stream",
     "text": [
      "4.51.3\n",
      "3.5.1\n",
      "0.30.2\n",
      "2.6.0+cu124\n"
     ]
    }
   ],
   "source": [
    "import transformers\n",
    "import datasets\n",
    "import huggingface_hub\n",
    "import torch\n",
    "import wandb\n",
    "\n",
    "print(transformers.__version__)\n",
    "print(datasets.__version__)\n",
    "print(huggingface_hub.__version__)\n",
    "print(torch.__version__)"
   ]
  },
  {
   "cell_type": "code",
   "execution_count": 14,
   "metadata": {
    "id": "cHw8JXpovvf2"
   },
   "outputs": [],
   "source": [
    "import json\n",
    "import torch\n",
    "import os\n",
    "import sys\n",
    "import warnings\n",
    "import random\n",
    "import glob\n",
    "\n",
    "import numpy as np\n",
    "\n",
    "from pathlib import Path\n",
    "from datasets import Dataset\n",
    "\n",
    "from transformers import AutoTokenizer, AutoModelForSeq2SeqLM\n",
    "from peft import prepare_model_for_kbit_training, get_peft_model, LoraConfig, TaskType\n",
    "\n",
    "from transformers import T5Tokenizer, T5ForConditionalGeneration, TrainingArguments, Trainer\n",
    "from transformers import TrainerCallback\n",
    "\n",
    "from peft import LoraConfig, get_peft_model, TaskType, PeftConfig,PeftModel\n",
    "from tqdm import tqdm\n",
    "\n",
    "\n",
    "# отключаем их все чтобы картинку не портили\n",
    "warnings.filterwarnings(\"ignore\", category=FutureWarning)\n",
    "\n",
    "DATA_DIR = Path(\"/content/drive/MyDrive/VKR/dataset/dataset_syntetic_v5_spacial_only\").expanduser()\n",
    "#DATA_DIR = Path(\"/content/drive/MyDrive/VKR/dataset/dataset_small\").expanduser()\n",
    "MODEL_NAME = \"sberbank-ai/ruT5-base\"\n",
    "\n",
    "MAX_INPUT_LENGTH = 512 # максимальная длина входа\n",
    "MAX_OUTPUT_LENGTH = 32 # максимальная длина выхода\n",
    "\n",
    "lib_path = os.path.abspath(os.path.join(os.getcwd(), '/content/drive/MyDrive/VKR/'))\n",
    "sys.path.append(lib_path)\n",
    "\n",
    "from library.metrics_pseudo import evaluate_relation_predictions, evaluate_relation_predictions\n",
    "from library.safe_compute_metrics import safe_compute_metrics\n",
    "\n",
    "# перевод в псевдотекст и обратно\n"
   ]
  },
  {
   "cell_type": "code",
   "execution_count": 15,
   "metadata": {
    "id": "umD8gj0nQv7K"
   },
   "outputs": [],
   "source": [
    "PROMPT_TEMPLATE = \"\"\"\n",
    "Определи пространственную связь между объектами '{obj1}' и '{obj2}'\n",
    "в следующем описании сцены: {description}\"\"\"\n"
   ]
  },
  {
   "cell_type": "code",
   "execution_count": 16,
   "metadata": {
    "id": "Rt5r3yM_MkcR"
   },
   "outputs": [],
   "source": [
    "def load_dataset(path=DATA_DIR):\n",
    "    all_data = []\n",
    "    for file in glob.glob(f\"{path}/spatial_relations_batch_*.jsonl\"):\n",
    "        with open(file, 'r', encoding='utf-8') as f:\n",
    "            for line in f:\n",
    "                item = json.loads(line)\n",
    "                obj1, obj2 = item[\"relation\"]\n",
    "                prompt = PROMPT_TEMPLATE.format(obj1=obj1, obj2=obj2, description=item[\"description\"])\n",
    "                all_data.append({\n",
    "                    \"input\": prompt,\n",
    "                    \"target\": item[\"target\"],\n",
    "                    \"relation\": item[\"relation\"],\n",
    "                    \"description\": item[\"description\"]\n",
    "                })\n",
    "    return Dataset.from_list(all_data)\n"
   ]
  },
  {
   "cell_type": "code",
   "execution_count": 17,
   "metadata": {
    "colab": {
     "base_uri": "https://localhost:8080/"
    },
    "id": "ZMl9n4gZPeny",
    "outputId": "18958125-ecf2-43ad-ffcb-8ae1ce583f1d"
   },
   "outputs": [
    {
     "data": {
      "text/plain": [
       "Dataset({\n",
       "    features: ['input', 'target', 'relation', 'description'],\n",
       "    num_rows: 21671\n",
       "})"
      ]
     },
     "execution_count": 17,
     "metadata": {},
     "output_type": "execute_result"
    }
   ],
   "source": [
    "load_dataset()"
   ]
  },
  {
   "cell_type": "code",
   "execution_count": 7,
   "metadata": {
    "id": "J9PrIikpSI5o"
   },
   "outputs": [],
   "source": []
  },
  {
   "cell_type": "code",
   "execution_count": 20,
   "metadata": {
    "id": "vmTar-6WUYTE"
   },
   "outputs": [],
   "source": [
    "lora_rank = 8\n",
    "lora_alpha = 16\n",
    "lora_target_modules=[\"q\", \"v\"]   # в какие слои делаем инъекции\n",
    "lora_dropout=0.1\n",
    "\n",
    "start_learning_rate = 5e-4 # стартовый\n",
    "lr_scheduler_type=\"cosine\"\n",
    "warmup_steps=1000 # прогрев (меньше чем эпоха в нашем случае)\n",
    "\n",
    "per_device_train_batch_size = 16\n",
    "num_train_epochs = 30\n",
    "\n",
    "# параметры генерации\n",
    "NUM_BEAMS = 6\n"
   ]
  },
  {
   "cell_type": "code",
   "execution_count": 8,
   "metadata": {
    "id": "qpqqZbojYlzl"
   },
   "outputs": [],
   "source": []
  },
  {
   "cell_type": "code",
   "execution_count": 21,
   "metadata": {
    "colab": {
     "base_uri": "https://localhost:8080/",
     "height": 192
    },
    "id": "Hnpo9uAcUYkt",
    "outputId": "17be20bd-5e5a-4698-e78f-129fd7c14090"
   },
   "outputs": [
    {
     "data": {
      "text/html": [
       "Finishing previous runs because reinit is set to 'default'."
      ],
      "text/plain": [
       "<IPython.core.display.HTML object>"
      ]
     },
     "metadata": {},
     "output_type": "display_data"
    },
    {
     "data": {
      "text/html": [],
      "text/plain": [
       "<IPython.core.display.HTML object>"
      ]
     },
     "metadata": {},
     "output_type": "display_data"
    },
    {
     "data": {
      "text/html": [
       " View run <strong style=\"color:#cdcd00\">bumbling-surf-58</strong> at: <a href='https://wandb.ai/shiltsov-da/vkr-hse-object-detection/runs/2o120kp8' target=\"_blank\">https://wandb.ai/shiltsov-da/vkr-hse-object-detection/runs/2o120kp8</a><br> View project at: <a href='https://wandb.ai/shiltsov-da/vkr-hse-object-detection' target=\"_blank\">https://wandb.ai/shiltsov-da/vkr-hse-object-detection</a><br>Synced 5 W&B file(s), 0 media file(s), 0 artifact file(s) and 0 other file(s)"
      ],
      "text/plain": [
       "<IPython.core.display.HTML object>"
      ]
     },
     "metadata": {},
     "output_type": "display_data"
    },
    {
     "data": {
      "text/html": [
       "Find logs at: <code>./wandb/run-20250502_230108-2o120kp8/logs</code>"
      ],
      "text/plain": [
       "<IPython.core.display.HTML object>"
      ]
     },
     "metadata": {},
     "output_type": "display_data"
    },
    {
     "data": {
      "text/html": [
       "Tracking run with wandb version 0.19.10"
      ],
      "text/plain": [
       "<IPython.core.display.HTML object>"
      ]
     },
     "metadata": {},
     "output_type": "display_data"
    },
    {
     "data": {
      "text/html": [
       "Run data is saved locally in <code>/content/wandb/run-20250502_230130-81sm7ebj</code>"
      ],
      "text/plain": [
       "<IPython.core.display.HTML object>"
      ]
     },
     "metadata": {},
     "output_type": "display_data"
    },
    {
     "data": {
      "text/html": [
       "Syncing run <strong><a href='https://wandb.ai/shiltsov-da/vkr-hse-object-detection/runs/81sm7ebj' target=\"_blank\">lively-wind-59</a></strong> to <a href='https://wandb.ai/shiltsov-da/vkr-hse-object-detection' target=\"_blank\">Weights & Biases</a> (<a href='https://wandb.me/developer-guide' target=\"_blank\">docs</a>)<br>"
      ],
      "text/plain": [
       "<IPython.core.display.HTML object>"
      ]
     },
     "metadata": {},
     "output_type": "display_data"
    },
    {
     "data": {
      "text/html": [
       " View project at <a href='https://wandb.ai/shiltsov-da/vkr-hse-object-detection' target=\"_blank\">https://wandb.ai/shiltsov-da/vkr-hse-object-detection</a>"
      ],
      "text/plain": [
       "<IPython.core.display.HTML object>"
      ]
     },
     "metadata": {},
     "output_type": "display_data"
    },
    {
     "data": {
      "text/html": [
       " View run at <a href='https://wandb.ai/shiltsov-da/vkr-hse-object-detection/runs/81sm7ebj' target=\"_blank\">https://wandb.ai/shiltsov-da/vkr-hse-object-detection/runs/81sm7ebj</a>"
      ],
      "text/plain": [
       "<IPython.core.display.HTML object>"
      ]
     },
     "metadata": {},
     "output_type": "display_data"
    }
   ],
   "source": [
    "run = wandb.init(\n",
    "    entity=\"shiltsov-da\",\n",
    "    # Set the wandb project where this run will be logged.\n",
    "    project=\"vkr-hse-object-detection\",\n",
    "    # Track hyperparameters and run metadata.\n",
    "    group=\"T5LoRAspacial\",\n",
    "    tags=[\"spacial\", \"lora\", MODEL_NAME],\n",
    "    config={\n",
    "        \"architecture\": \"T5ru-LoRA-spacial\",\n",
    "        \"notebook\":\"T5ru-LoRA-spacial-v3-Colab.ipynb\",\n",
    "        \"base_model\": MODEL_NAME,\n",
    "        \"lora_rank\": lora_rank,\n",
    "        \"lora_alpha\": lora_alpha,\n",
    "        \"lora_target_modules\": lora_target_modules,\n",
    "        \"lora_dropout\": lora_dropout,\n",
    "        \"start_learning_rate\": start_learning_rate,\n",
    "        \"lr_scheduler_type\": lr_scheduler_type,\n",
    "        \"lr_warmup_steps\": warmup_steps,\n",
    "        \"per_device_train_batch_size\": per_device_train_batch_size,\n",
    "        \"num_train_epochs\": num_train_epochs\n",
    "    },\n",
    ")\n"
   ]
  },
  {
   "cell_type": "code",
   "execution_count": 22,
   "metadata": {
    "colab": {
     "base_uri": "https://localhost:8080/",
     "height": 49,
     "referenced_widgets": [
      "c7bab9e9461546d5ad0b828b748427b1",
      "e76e505d5c7d46e9b28ebf645982a951",
      "76f053f95c5543b6bd2df4dbc8c98e72",
      "cf79d37cb5324e2ea7cc1d33e69931e7",
      "53de3a1ba7ee4b7a8c76da84cfb8da39",
      "d78195c6d5cd4fa7a21dffdd4b58003b",
      "fc48915a2f6f4f32a40e0a1133c21bf0",
      "3804f1e27f654af299d307fa44d1fb22",
      "1a7ac26ed94b47b8a437c3111a12fbd9",
      "941df8d374074e31bb3e73792fe47635",
      "c57effb74785458db572ecf753308ffb"
     ]
    },
    "id": "ICqgEmrhZgNH",
    "outputId": "b2cd5f1e-20ba-4fd8-c79c-6c58d2b6e091"
   },
   "outputs": [
    {
     "data": {
      "application/vnd.jupyter.widget-view+json": {
       "model_id": "c7bab9e9461546d5ad0b828b748427b1",
       "version_major": 2,
       "version_minor": 0
      },
      "text/plain": [
       "Map:   0%|          | 0/21671 [00:00<?, ? examples/s]"
      ]
     },
     "metadata": {},
     "output_type": "display_data"
    }
   ],
   "source": [
    "def tokenize(example):\n",
    "    inputs = tokenizer(example[\"input\"], truncation=True, padding=\"max_length\", max_length=MAX_INPUT_LENGTH)\n",
    "    targets = tokenizer(example[\"target\"], truncation=True, padding=\"max_length\", max_length=MAX_OUTPUT_LENGTH)\n",
    "    inputs[\"labels\"] = targets[\"input_ids\"]\n",
    "    return inputs\n",
    "\n",
    "tokenizer = AutoTokenizer.from_pretrained(MODEL_NAME)\n",
    "base_model = AutoModelForSeq2SeqLM.from_pretrained(MODEL_NAME)\n",
    "\n",
    "raw_dataset = load_dataset()\n",
    "tokenized_dataset = raw_dataset.map(tokenize, batched=False)\n",
    "\n",
    "train_test = tokenized_dataset.train_test_split(test_size=0.05)\n",
    "train_ds = train_test['train']\n",
    "eval_ds = train_test['test']\n"
   ]
  },
  {
   "cell_type": "code",
   "execution_count": 23,
   "metadata": {
    "id": "D84_48Xjehw1"
   },
   "outputs": [],
   "source": [
    "def compute_metrics(eval_preds):\n",
    "\n",
    "    predictions, labels = eval_preds\n",
    "\n",
    "    # Если predictions — logits, нужно брать argmax\n",
    "    if isinstance(predictions, tuple):\n",
    "        predictions = predictions[0]\n",
    "\n",
    "    if isinstance(predictions, torch.Tensor):\n",
    "        predictions = predictions.cpu().numpy()\n",
    "    if isinstance(labels, torch.Tensor):\n",
    "        labels = labels.cpu().numpy()\n",
    "\n",
    "    # logits -> ids\n",
    "    predictions = np.argmax(predictions, axis=-1)\n",
    "\n",
    "    # Декодируем токены\n",
    "    pred_texts = tokenizer.batch_decode(predictions, skip_special_tokens=True)\n",
    "    label_texts = tokenizer.batch_decode(labels, skip_special_tokens=True)\n",
    "\n",
    "    print(pred_texts[:10],\"\\n\" ,label_texts[:10],\"\\n\")\n",
    "\n",
    "    results = [\n",
    "        {\"relation\": eval_ds[i][\"relation\"], \"target\": label_texts[i], \"predicted_target\": pred_texts[i]}\n",
    "        for i in range(len(label_texts))\n",
    "    ]\n",
    "\n",
    "    #for i in range(min(3, len(results))):\n",
    "    #    print(f\"[{i}] relation: {results[i]['relation']}, target: {results[i]['target']}, pred: {results[i]['predicted_target']}\")\n",
    "\n",
    "    metrics = evaluate_relation_predictions(results)\n",
    "    return {\n",
    "        \"F1binary\": metrics[\"F1binary\"],\n",
    "        \"F1strict\": metrics[\"F1strict\"]\n",
    "    }\n"
   ]
  },
  {
   "cell_type": "code",
   "execution_count": 12,
   "metadata": {
    "id": "23JNvEPVXsAV"
   },
   "outputs": [],
   "source": [
    "peft_config = LoraConfig(\n",
    "    r=lora_rank,\n",
    "    lora_alpha=lora_alpha,\n",
    "    target_modules=lora_target_modules,\n",
    "    lora_dropout=lora_dropout,\n",
    "    bias=\"none\",\n",
    "    task_type=TaskType.SEQ_2_SEQ_LM\n",
    ")\n",
    "\n",
    "model = get_peft_model(base_model, peft_config)"
   ]
  },
  {
   "cell_type": "code",
   "execution_count": 24,
   "metadata": {
    "colab": {
     "base_uri": "https://localhost:8080/",
     "height": 1000
    },
    "id": "tKBg7YLSSM1c",
    "outputId": "c309ec4c-ee2e-4356-a5ed-a1b0a0b6b30f",
    "scrolled": false
   },
   "outputs": [
    {
     "name": "stderr",
     "output_type": "stream",
     "text": [
      "No label_names provided for model class `PeftModelForSeq2SeqLM`. Since `PeftModel` hides base models input arguments, if label_names is not given, label_names can't be set automatically within `Trainer`. Note that empty label_names list will be used instead.\n"
     ]
    },
    {
     "data": {
      "text/html": [
       "\n",
       "    <div>\n",
       "      \n",
       "      <progress value='38610' max='38610' style='width:300px; height:20px; vertical-align: middle;'></progress>\n",
       "      [38610/38610 9:42:50, Epoch 30/30]\n",
       "    </div>\n",
       "    <table border=\"1\" class=\"dataframe\">\n",
       "  <thead>\n",
       " <tr style=\"text-align: left;\">\n",
       "      <th>Epoch</th>\n",
       "      <th>Training Loss</th>\n",
       "      <th>Validation Loss</th>\n",
       "      <th>F1binary</th>\n",
       "      <th>F1strict</th>\n",
       "    </tr>\n",
       "  </thead>\n",
       "  <tbody>\n",
       "    <tr>\n",
       "      <td>1</td>\n",
       "      <td>0.029300</td>\n",
       "      <td>0.014498</td>\n",
       "      <td>0.890100</td>\n",
       "      <td>0.860700</td>\n",
       "    </tr>\n",
       "    <tr>\n",
       "      <td>2</td>\n",
       "      <td>0.013900</td>\n",
       "      <td>0.006958</td>\n",
       "      <td>0.968100</td>\n",
       "      <td>0.935400</td>\n",
       "    </tr>\n",
       "    <tr>\n",
       "      <td>3</td>\n",
       "      <td>0.011400</td>\n",
       "      <td>0.005606</td>\n",
       "      <td>0.972000</td>\n",
       "      <td>0.944600</td>\n",
       "    </tr>\n",
       "    <tr>\n",
       "      <td>4</td>\n",
       "      <td>0.009600</td>\n",
       "      <td>0.006195</td>\n",
       "      <td>0.952900</td>\n",
       "      <td>0.934500</td>\n",
       "    </tr>\n",
       "    <tr>\n",
       "      <td>5</td>\n",
       "      <td>0.008300</td>\n",
       "      <td>0.006762</td>\n",
       "      <td>0.965200</td>\n",
       "      <td>0.943700</td>\n",
       "    </tr>\n",
       "    <tr>\n",
       "      <td>6</td>\n",
       "      <td>0.008200</td>\n",
       "      <td>0.006016</td>\n",
       "      <td>0.961400</td>\n",
       "      <td>0.941900</td>\n",
       "    </tr>\n",
       "    <tr>\n",
       "      <td>7</td>\n",
       "      <td>0.008200</td>\n",
       "      <td>0.004839</td>\n",
       "      <td>0.975900</td>\n",
       "      <td>0.950200</td>\n",
       "    </tr>\n",
       "    <tr>\n",
       "      <td>8</td>\n",
       "      <td>0.007500</td>\n",
       "      <td>0.005191</td>\n",
       "      <td>0.967200</td>\n",
       "      <td>0.950200</td>\n",
       "    </tr>\n",
       "    <tr>\n",
       "      <td>9</td>\n",
       "      <td>0.006800</td>\n",
       "      <td>0.005290</td>\n",
       "      <td>0.979800</td>\n",
       "      <td>0.954800</td>\n",
       "    </tr>\n",
       "    <tr>\n",
       "      <td>10</td>\n",
       "      <td>0.006100</td>\n",
       "      <td>0.005478</td>\n",
       "      <td>0.963300</td>\n",
       "      <td>0.946500</td>\n",
       "    </tr>\n",
       "    <tr>\n",
       "      <td>11</td>\n",
       "      <td>0.006100</td>\n",
       "      <td>0.005688</td>\n",
       "      <td>0.973000</td>\n",
       "      <td>0.951100</td>\n",
       "    </tr>\n",
       "    <tr>\n",
       "      <td>12</td>\n",
       "      <td>0.005600</td>\n",
       "      <td>0.004732</td>\n",
       "      <td>0.976900</td>\n",
       "      <td>0.953900</td>\n",
       "    </tr>\n",
       "    <tr>\n",
       "      <td>13</td>\n",
       "      <td>0.005500</td>\n",
       "      <td>0.004253</td>\n",
       "      <td>0.973900</td>\n",
       "      <td>0.953900</td>\n",
       "    </tr>\n",
       "    <tr>\n",
       "      <td>14</td>\n",
       "      <td>0.005000</td>\n",
       "      <td>0.005156</td>\n",
       "      <td>0.975900</td>\n",
       "      <td>0.953900</td>\n",
       "    </tr>\n",
       "    <tr>\n",
       "      <td>15</td>\n",
       "      <td>0.005200</td>\n",
       "      <td>0.004860</td>\n",
       "      <td>0.969100</td>\n",
       "      <td>0.952000</td>\n",
       "    </tr>\n",
       "    <tr>\n",
       "      <td>16</td>\n",
       "      <td>0.004800</td>\n",
       "      <td>0.004673</td>\n",
       "      <td>0.979800</td>\n",
       "      <td>0.956600</td>\n",
       "    </tr>\n",
       "    <tr>\n",
       "      <td>17</td>\n",
       "      <td>0.004100</td>\n",
       "      <td>0.004792</td>\n",
       "      <td>0.974900</td>\n",
       "      <td>0.955700</td>\n",
       "    </tr>\n",
       "    <tr>\n",
       "      <td>18</td>\n",
       "      <td>0.004700</td>\n",
       "      <td>0.004562</td>\n",
       "      <td>0.980800</td>\n",
       "      <td>0.958500</td>\n",
       "    </tr>\n",
       "    <tr>\n",
       "      <td>19</td>\n",
       "      <td>0.004000</td>\n",
       "      <td>0.004512</td>\n",
       "      <td>0.973000</td>\n",
       "      <td>0.955700</td>\n",
       "    </tr>\n",
       "    <tr>\n",
       "      <td>20</td>\n",
       "      <td>0.003800</td>\n",
       "      <td>0.004457</td>\n",
       "      <td>0.973000</td>\n",
       "      <td>0.954800</td>\n",
       "    </tr>\n",
       "    <tr>\n",
       "      <td>21</td>\n",
       "      <td>0.003700</td>\n",
       "      <td>0.004483</td>\n",
       "      <td>0.974900</td>\n",
       "      <td>0.954800</td>\n",
       "    </tr>\n",
       "    <tr>\n",
       "      <td>22</td>\n",
       "      <td>0.003600</td>\n",
       "      <td>0.004271</td>\n",
       "      <td>0.978900</td>\n",
       "      <td>0.960300</td>\n",
       "    </tr>\n",
       "    <tr>\n",
       "      <td>23</td>\n",
       "      <td>0.003100</td>\n",
       "      <td>0.004806</td>\n",
       "      <td>0.973900</td>\n",
       "      <td>0.952000</td>\n",
       "    </tr>\n",
       "    <tr>\n",
       "      <td>24</td>\n",
       "      <td>0.003200</td>\n",
       "      <td>0.004755</td>\n",
       "      <td>0.979800</td>\n",
       "      <td>0.959400</td>\n",
       "    </tr>\n",
       "    <tr>\n",
       "      <td>25</td>\n",
       "      <td>0.003000</td>\n",
       "      <td>0.004539</td>\n",
       "      <td>0.978900</td>\n",
       "      <td>0.960300</td>\n",
       "    </tr>\n",
       "    <tr>\n",
       "      <td>26</td>\n",
       "      <td>0.002900</td>\n",
       "      <td>0.004522</td>\n",
       "      <td>0.978900</td>\n",
       "      <td>0.961300</td>\n",
       "    </tr>\n",
       "    <tr>\n",
       "      <td>27</td>\n",
       "      <td>0.002800</td>\n",
       "      <td>0.004599</td>\n",
       "      <td>0.979800</td>\n",
       "      <td>0.961300</td>\n",
       "    </tr>\n",
       "    <tr>\n",
       "      <td>28</td>\n",
       "      <td>0.003000</td>\n",
       "      <td>0.004605</td>\n",
       "      <td>0.981800</td>\n",
       "      <td>0.962200</td>\n",
       "    </tr>\n",
       "    <tr>\n",
       "      <td>29</td>\n",
       "      <td>0.003000</td>\n",
       "      <td>0.004595</td>\n",
       "      <td>0.981800</td>\n",
       "      <td>0.962200</td>\n",
       "    </tr>\n",
       "    <tr>\n",
       "      <td>30</td>\n",
       "      <td>0.003000</td>\n",
       "      <td>0.004595</td>\n",
       "      <td>0.981800</td>\n",
       "      <td>0.962200</td>\n",
       "    </tr>\n",
       "  </tbody>\n",
       "</table><p>"
      ],
      "text/plain": [
       "<IPython.core.display.HTML object>"
      ]
     },
     "metadata": {},
     "output_type": "display_data"
    },
    {
     "name": "stdout",
     "output_type": "stream",
     "text": [
      "['нет связи', 'нет связи', 'нет связи', 'нет связи', 'нет связи', 'нет связи', 'нет связи', 'нет связи', 'перед', 'нет связи'] \n",
      " ['нет связи', 'нет связи', 'нет связи', 'нет связи', 'нет связи', 'нет связи', 'нет связи', 'нет связи', 'перед', 'нет связи'] \n",
      "\n",
      "['нет связи', 'нет связи', 'нет связи', 'нет связи', 'нет связи', 'нет связи', 'нет связи', 'нет связи', 'перед', 'нет связи'] \n",
      " ['нет связи', 'нет связи', 'нет связи', 'нет связи', 'нет связи', 'нет связи', 'нет связи', 'нет связи', 'перед', 'нет связи'] \n",
      "\n",
      "['нет связи', 'нет связи', 'нет связи', 'нет связи', 'нет связи', 'нет связи', 'нет связи', 'нет связи', 'перед', 'нет связи'] \n",
      " ['нет связи', 'нет связи', 'нет связи', 'нет связи', 'нет связи', 'нет связи', 'нет связи', 'нет связи', 'перед', 'нет связи'] \n",
      "\n",
      "['нет связи', 'нет связи', 'нет связи', 'нет связи', 'нет связи', 'нет связи', 'нет связи', 'нет связи', 'перед', 'нет связи'] \n",
      " ['нет связи', 'нет связи', 'нет связи', 'нет связи', 'нет связи', 'нет связи', 'нет связи', 'нет связи', 'перед', 'нет связи'] \n",
      "\n",
      "['нет связи', 'нет связи', 'нет связи', 'нет связи', 'нет связи', 'нет связи', 'нет связи', 'нет связи', 'перед', 'нет связи'] \n",
      " ['нет связи', 'нет связи', 'нет связи', 'нет связи', 'нет связи', 'нет связи', 'нет связи', 'нет связи', 'перед', 'нет связи'] \n",
      "\n",
      "['нет связи', 'нет связи', 'нет связи', 'нет связи', 'нет связи', 'нет связи', 'нет связи', 'нет связи', 'перед', 'нет связи'] \n",
      " ['нет связи', 'нет связи', 'нет связи', 'нет связи', 'нет связи', 'нет связи', 'нет связи', 'нет связи', 'перед', 'нет связи'] \n",
      "\n",
      "['нет связи', 'нет связи', 'нет связи', 'нет связи', 'нет связи', 'нет связи', 'нет связи', 'нет связи', 'перед', 'нет связи'] \n",
      " ['нет связи', 'нет связи', 'нет связи', 'нет связи', 'нет связи', 'нет связи', 'нет связи', 'нет связи', 'перед', 'нет связи'] \n",
      "\n",
      "['нет связи', 'нет связи', 'нет связи', 'нет связи', 'нет связи', 'нет связи', 'нет связи', 'нет связи', 'перед', 'нет связи'] \n",
      " ['нет связи', 'нет связи', 'нет связи', 'нет связи', 'нет связи', 'нет связи', 'нет связи', 'нет связи', 'перед', 'нет связи'] \n",
      "\n",
      "['нет связи', 'нет связи', 'нет связи', 'нет связи', 'нет связи', 'нет связи', 'нет связи', 'нет связи', 'перед', 'нет связи'] \n",
      " ['нет связи', 'нет связи', 'нет связи', 'нет связи', 'нет связи', 'нет связи', 'нет связи', 'нет связи', 'перед', 'нет связи'] \n",
      "\n",
      "['нет связи', 'нет связи', 'нет связи', 'нет связи', 'нет связи', 'нет связи', 'нет связи', 'нет связи', 'перед', 'нет связи'] \n",
      " ['нет связи', 'нет связи', 'нет связи', 'нет связи', 'нет связи', 'нет связи', 'нет связи', 'нет связи', 'перед', 'нет связи'] \n",
      "\n",
      "['нет связи', 'нет связи', 'нет связи', 'нет связи', 'нет связи', 'нет связи', 'нет связи', 'нет связи', 'перед', 'нет связи'] \n",
      " ['нет связи', 'нет связи', 'нет связи', 'нет связи', 'нет связи', 'нет связи', 'нет связи', 'нет связи', 'перед', 'нет связи'] \n",
      "\n",
      "['нет связи', 'нет связи', 'нет связи', 'нет связи', 'нет связи', 'нет связи', 'нет связи', 'нет связи', 'перед', 'нет связи'] \n",
      " ['нет связи', 'нет связи', 'нет связи', 'нет связи', 'нет связи', 'нет связи', 'нет связи', 'нет связи', 'перед', 'нет связи'] \n",
      "\n",
      "['нет связи', 'нет связи', 'нет связи', 'рядом связи', 'нет связи', 'нет связи', 'нет связи', 'нет связи', 'перед', 'нет связи'] \n",
      " ['нет связи', 'нет связи', 'нет связи', 'нет связи', 'нет связи', 'нет связи', 'нет связи', 'нет связи', 'перед', 'нет связи'] \n",
      "\n",
      "['нет связи', 'нет связи', 'нет связи', 'нет связи', 'нет связи', 'нет связи', 'нет связи', 'нет связи', 'перед', 'нет связи'] \n",
      " ['нет связи', 'нет связи', 'нет связи', 'нет связи', 'нет связи', 'нет связи', 'нет связи', 'нет связи', 'перед', 'нет связи'] \n",
      "\n",
      "['нет связи', 'нет связи', 'нет связи', 'нет связи', 'нет связи', 'нет связи', 'нет связи', 'нет связи', 'перед', 'нет связи'] \n",
      " ['нет связи', 'нет связи', 'нет связи', 'нет связи', 'нет связи', 'нет связи', 'нет связи', 'нет связи', 'перед', 'нет связи'] \n",
      "\n",
      "['нет связи', 'нет связи', 'нет связи', 'нет связи', 'нет связи', 'нет связи', 'нет связи', 'нет связи', 'перед', 'нет связи'] \n",
      " ['нет связи', 'нет связи', 'нет связи', 'нет связи', 'нет связи', 'нет связи', 'нет связи', 'нет связи', 'перед', 'нет связи'] \n",
      "\n",
      "['нет связи', 'нет связи', 'нет связи', 'нет связи', 'нет связи', 'нет связи', 'нет связи', 'нет связи', 'перед', 'нет связи'] \n",
      " ['нет связи', 'нет связи', 'нет связи', 'нет связи', 'нет связи', 'нет связи', 'нет связи', 'нет связи', 'перед', 'нет связи'] \n",
      "\n",
      "['нет связи', 'нет связи', 'нет связи', 'нет связи', 'нет связи', 'нет связи', 'нет связи', 'нет связи', 'перед', 'нет связи'] \n",
      " ['нет связи', 'нет связи', 'нет связи', 'нет связи', 'нет связи', 'нет связи', 'нет связи', 'нет связи', 'перед', 'нет связи'] \n",
      "\n",
      "['нет связи', 'нет связи', 'нет связи', 'нет связи', 'нет связи', 'нет связи', 'нет связи', 'нет связи', 'перед', 'нет связи'] \n",
      " ['нет связи', 'нет связи', 'нет связи', 'нет связи', 'нет связи', 'нет связи', 'нет связи', 'нет связи', 'перед', 'нет связи'] \n",
      "\n",
      "['нет связи', 'нет связи', 'нет связи', 'нет связи', 'нет связи', 'нет связи', 'нет связи', 'нет связи', 'перед', 'нет связи'] \n",
      " ['нет связи', 'нет связи', 'нет связи', 'нет связи', 'нет связи', 'нет связи', 'нет связи', 'нет связи', 'перед', 'нет связи'] \n",
      "\n",
      "['нет связи', 'нет связи', 'нет связи', 'нет связи', 'нет связи', 'нет связи', 'нет связи', 'нет связи', 'перед', 'нет связи'] \n",
      " ['нет связи', 'нет связи', 'нет связи', 'нет связи', 'нет связи', 'нет связи', 'нет связи', 'нет связи', 'перед', 'нет связи'] \n",
      "\n",
      "['нет связи', 'нет связи', 'нет связи', 'нет связи', 'нет связи', 'нет связи', 'нет связи', 'нет связи', 'перед', 'нет связи'] \n",
      " ['нет связи', 'нет связи', 'нет связи', 'нет связи', 'нет связи', 'нет связи', 'нет связи', 'нет связи', 'перед', 'нет связи'] \n",
      "\n",
      "['нет связи', 'нет связи', 'нет связи', 'нет связи', 'нет связи', 'нет связи', 'нет связи', 'нет связи', 'перед', 'нет связи'] \n",
      " ['нет связи', 'нет связи', 'нет связи', 'нет связи', 'нет связи', 'нет связи', 'нет связи', 'нет связи', 'перед', 'нет связи'] \n",
      "\n",
      "['нет связи', 'нет связи', 'нет связи', 'нет связи', 'нет связи', 'нет связи', 'нет связи', 'нет связи', 'перед', 'нет связи'] \n",
      " ['нет связи', 'нет связи', 'нет связи', 'нет связи', 'нет связи', 'нет связи', 'нет связи', 'нет связи', 'перед', 'нет связи'] \n",
      "\n",
      "['нет связи', 'нет связи', 'нет связи', 'нет связи', 'нет связи', 'нет связи', 'нет связи', 'нет связи', 'перед', 'нет связи'] \n",
      " ['нет связи', 'нет связи', 'нет связи', 'нет связи', 'нет связи', 'нет связи', 'нет связи', 'нет связи', 'перед', 'нет связи'] \n",
      "\n",
      "['нет связи', 'нет связи', 'нет связи', 'нет связи', 'нет связи', 'нет связи', 'нет связи', 'нет связи', 'перед', 'нет связи'] \n",
      " ['нет связи', 'нет связи', 'нет связи', 'нет связи', 'нет связи', 'нет связи', 'нет связи', 'нет связи', 'перед', 'нет связи'] \n",
      "\n",
      "['нет связи', 'нет связи', 'нет связи', 'нет связи', 'нет связи', 'нет связи', 'нет связи', 'нет связи', 'перед', 'нет связи'] \n",
      " ['нет связи', 'нет связи', 'нет связи', 'нет связи', 'нет связи', 'нет связи', 'нет связи', 'нет связи', 'перед', 'нет связи'] \n",
      "\n",
      "['нет связи', 'нет связи', 'нет связи', 'нет связи', 'нет связи', 'нет связи', 'нет связи', 'нет связи', 'перед', 'нет связи'] \n",
      " ['нет связи', 'нет связи', 'нет связи', 'нет связи', 'нет связи', 'нет связи', 'нет связи', 'нет связи', 'перед', 'нет связи'] \n",
      "\n",
      "['нет связи', 'нет связи', 'нет связи', 'нет связи', 'нет связи', 'нет связи', 'нет связи', 'нет связи', 'перед', 'нет связи'] \n",
      " ['нет связи', 'нет связи', 'нет связи', 'нет связи', 'нет связи', 'нет связи', 'нет связи', 'нет связи', 'перед', 'нет связи'] \n",
      "\n",
      "['нет связи', 'нет связи', 'нет связи', 'нет связи', 'нет связи', 'нет связи', 'нет связи', 'нет связи', 'перед', 'нет связи'] \n",
      " ['нет связи', 'нет связи', 'нет связи', 'нет связи', 'нет связи', 'нет связи', 'нет связи', 'нет связи', 'перед', 'нет связи'] \n",
      "\n"
     ]
    },
    {
     "data": {
      "text/html": [],
      "text/plain": [
       "<IPython.core.display.HTML object>"
      ]
     },
     "metadata": {},
     "output_type": "display_data"
    },
    {
     "data": {
      "text/html": [
       "<br>    <style><br>        .wandb-row {<br>            display: flex;<br>            flex-direction: row;<br>            flex-wrap: wrap;<br>            justify-content: flex-start;<br>            width: 100%;<br>        }<br>        .wandb-col {<br>            display: flex;<br>            flex-direction: column;<br>            flex-basis: 100%;<br>            flex: 1;<br>            padding: 10px;<br>        }<br>    </style><br><div class=\"wandb-row\"><div class=\"wandb-col\"><h3>Run history:</h3><br/><table class=\"wandb\"><tr><td>eval/F1binary</td><td>▁▇▇▆▇▆█▇█▇▇█▇█▇█▇█▇▇▇█▇███████</td></tr><tr><td>eval/F1strict</td><td>▁▆▇▆▇▇▇▇▇▇▇▇▇▇▇████▇▇█▇███████</td></tr><tr><td>eval/loss</td><td>█▃▂▂▃▂▁▂▂▂▂▁▁▂▁▁▁▁▁▁▁▁▁▁▁▁▁▁▁▁</td></tr><tr><td>eval/runtime</td><td>▇▆▄▃▅█▅▆▅▇▆▅▇▇▆▇▅█▃▄▄▅▂▂▂▃▂▃▂▁</td></tr><tr><td>eval/samples_per_second</td><td>▂▃▅▆▄▁▄▃▄▂▃▄▂▂▃▂▄▁▆▅▅▄▇▇▇▆▇▆▇█</td></tr><tr><td>eval/steps_per_second</td><td>▂▃▅▆▄▁▄▃▄▂▃▄▂▂▃▂▄▁▆▅▅▄▇▇▇▆▇▆▇█</td></tr><tr><td>train/epoch</td><td>▁▁▁▂▂▂▂▂▃▃▃▃▃▃▃▄▄▄▄▄▄▅▅▅▅▅▆▆▆▆▆▆▇▇▇▇▇███</td></tr><tr><td>train/global_step</td><td>▁▁▁▂▂▂▂▂▂▂▃▃▃▃▃▃▃▄▄▄▄▄▄▅▅▅▅▅▅▅▆▆▆▆▆▇████</td></tr><tr><td>train/grad_norm</td><td>▃▆▃▅▄▃▄▃▃▅▃▂▂▁▂▂▁█▃▃▁▁▂█▅▁▃▁▁▁▁▁▃▃▁▄▁▃▃▁</td></tr><tr><td>train/learning_rate</td><td>▄█████████▇▇▇▇▇▇▆▆▆▆▅▅▄▄▄▄▃▃▃▃▃▃▂▂▂▁▁▁▁▁</td></tr><tr><td>train/loss</td><td>█▆▃▃▃▃▂▂▂▂▂▂▂▂▂▂▁▂▂▁▁▁▁▁▁▁▁▁▁▁▁▁▁▁▁▁▁▁▁▁</td></tr></table><br/></div><div class=\"wandb-col\"><h3>Run summary:</h3><br/><table class=\"wandb\"><tr><td>eval/F1binary</td><td>0.9818</td></tr><tr><td>eval/F1strict</td><td>0.9622</td></tr><tr><td>eval/loss</td><td>0.00459</td></tr><tr><td>eval/runtime</td><td>130.8516</td></tr><tr><td>eval/samples_per_second</td><td>8.284</td></tr><tr><td>eval/steps_per_second</td><td>2.071</td></tr><tr><td>total_flos</td><td>3.777770905613107e+17</td></tr><tr><td>train/epoch</td><td>30</td></tr><tr><td>train/global_step</td><td>38610</td></tr><tr><td>train/grad_norm</td><td>0.00787</td></tr><tr><td>train/learning_rate</td><td>0.0</td></tr><tr><td>train/loss</td><td>0.003</td></tr><tr><td>train_loss</td><td>0.00642</td></tr><tr><td>train_runtime</td><td>34971.1547</td></tr><tr><td>train_samples_per_second</td><td>17.661</td></tr><tr><td>train_steps_per_second</td><td>1.104</td></tr></table><br/></div></div>"
      ],
      "text/plain": [
       "<IPython.core.display.HTML object>"
      ]
     },
     "metadata": {},
     "output_type": "display_data"
    },
    {
     "data": {
      "text/html": [
       " View run <strong style=\"color:#cdcd00\">lively-wind-59</strong> at: <a href='https://wandb.ai/shiltsov-da/vkr-hse-object-detection/runs/81sm7ebj' target=\"_blank\">https://wandb.ai/shiltsov-da/vkr-hse-object-detection/runs/81sm7ebj</a><br> View project at: <a href='https://wandb.ai/shiltsov-da/vkr-hse-object-detection' target=\"_blank\">https://wandb.ai/shiltsov-da/vkr-hse-object-detection</a><br>Synced 5 W&B file(s), 0 media file(s), 0 artifact file(s) and 0 other file(s)"
      ],
      "text/plain": [
       "<IPython.core.display.HTML object>"
      ]
     },
     "metadata": {},
     "output_type": "display_data"
    },
    {
     "data": {
      "text/html": [
       "Find logs at: <code>./wandb/run-20250502_230130-81sm7ebj/logs</code>"
      ],
      "text/plain": [
       "<IPython.core.display.HTML object>"
      ]
     },
     "metadata": {},
     "output_type": "display_data"
    }
   ],
   "source": [
    "training_args = TrainingArguments(\n",
    "    output_dir=\"/content/drive/MyDrive/VKR/T5ru_spacial_lora_outputs\",\n",
    "    logging_dir=\"/content/drive/MyDrive/VKR/logs_T5ru_spacial\",\n",
    "    eval_strategy=\"epoch\",\n",
    "    save_strategy=\"epoch\",\n",
    "    save_total_limit=2,\n",
    "    load_best_model_at_end=True,\n",
    "    learning_rate=start_learning_rate,\n",
    "    lr_scheduler_type=lr_scheduler_type,\n",
    "    warmup_steps=warmup_steps,\n",
    "    per_device_train_batch_size=per_device_train_batch_size,\n",
    "    per_device_eval_batch_size=4,\n",
    "    eval_accumulation_steps=3, # иначе все не влезет\n",
    "    num_train_epochs=num_train_epochs,\n",
    "    report_to=\"wandb\",\n",
    "    fp16=True\n",
    ")\n",
    "\n",
    "trainer = Trainer(\n",
    "    model=model,\n",
    "    args=training_args,\n",
    "    train_dataset=train_ds,\n",
    "    eval_dataset=eval_ds,\n",
    "    tokenizer=tokenizer,\n",
    "    compute_metrics=compute_metrics\n",
    ")\n",
    "\n",
    "# грузим уже обученную\n",
    "#trainer.train(resume_from_checkpoint=True)\n",
    "\n",
    "trainer.train()\n",
    "model.save_pretrained(\"/content/drive/MyDrive/VKR/T5ru_spacial_lora_outputs\")\n",
    "run.finish()\n"
   ]
  },
  {
   "cell_type": "code",
   "execution_count": 14,
   "metadata": {
    "colab": {
     "base_uri": "https://localhost:8080/",
     "height": 87
    },
    "id": "QK7vTXhoTJUE",
    "outputId": "d4eb8704-74bd-47ef-9aa7-5f8934c7c610"
   },
   "outputs": [
    {
     "data": {
      "text/html": [],
      "text/plain": [
       "<IPython.core.display.HTML object>"
      ]
     },
     "metadata": {},
     "output_type": "display_data"
    },
    {
     "data": {
      "text/html": [
       " View run <strong style=\"color:#cdcd00\">silver-durian-48</strong> at: <a href='https://wandb.ai/shiltsov-da/vkr-hse-object-detection/runs/9fcuph3y' target=\"_blank\">https://wandb.ai/shiltsov-da/vkr-hse-object-detection/runs/9fcuph3y</a><br> View project at: <a href='https://wandb.ai/shiltsov-da/vkr-hse-object-detection' target=\"_blank\">https://wandb.ai/shiltsov-da/vkr-hse-object-detection</a><br>Synced 5 W&B file(s), 0 media file(s), 0 artifact file(s) and 0 other file(s)"
      ],
      "text/plain": [
       "<IPython.core.display.HTML object>"
      ]
     },
     "metadata": {},
     "output_type": "display_data"
    },
    {
     "data": {
      "text/html": [
       "Find logs at: <code>./wandb/run-20250502_185807-9fcuph3y/logs</code>"
      ],
      "text/plain": [
       "<IPython.core.display.HTML object>"
      ]
     },
     "metadata": {},
     "output_type": "display_data"
    }
   ],
   "source": [
    "# на всякий случай\n",
    "run.finish()"
   ]
  },
  {
   "cell_type": "code",
   "execution_count": null,
   "metadata": {
    "id": "wnIZex8oXd3Q"
   },
   "outputs": [],
   "source": []
  },
  {
   "cell_type": "code",
   "execution_count": null,
   "metadata": {
    "id": "A365D5A9do9N"
   },
   "outputs": [],
   "source": []
  },
  {
   "cell_type": "markdown",
   "metadata": {
    "id": "Rg37tYY8duMn"
   },
   "source": [
    "### Инференс"
   ]
  },
  {
   "cell_type": "code",
   "execution_count": 17,
   "metadata": {
    "id": "qQblM2CHdpG5"
   },
   "outputs": [],
   "source": [
    "def object_relation_inference(description: str, obj1: str, obj2: str) -> str:\n",
    "    model.eval()\n",
    "    prompt = PROMPT_TEMPLATE.format(obj1=obj1, obj2=obj2, description=description)\n",
    "    print(prompt)\n",
    "    inputs = tokenizer(prompt, return_tensors=\"pt\", truncation=True, max_length = MAX_INPUT_LENGTH).to(model.device)\n",
    "    with torch.no_grad():\n",
    "        output_ids = model.generate(**inputs, max_new_tokens=10)\n",
    "    return tokenizer.decode(output_ids[0], skip_special_tokens=True)"
   ]
  },
  {
   "cell_type": "code",
   "execution_count": 19,
   "metadata": {
    "colab": {
     "base_uri": "https://localhost:8080/",
     "height": 90
    },
    "id": "LtI-pR9L2zPk",
    "outputId": "4e66e4d9-5fac-467c-e92c-a9b6946ff469"
   },
   "outputs": [
    {
     "name": "stdout",
     "output_type": "stream",
     "text": [
      "\n",
      "Определи пространственную связь между объектами 'стол' и 'кот' \n",
      "в следующем описании сцены: кот сидит рядом со стулом\n"
     ]
    },
    {
     "data": {
      "application/vnd.google.colaboratory.intrinsic+json": {
       "type": "string"
      },
      "text/plain": [
       "'нет связи'"
      ]
     },
     "execution_count": 19,
     "metadata": {},
     "output_type": "execute_result"
    }
   ],
   "source": [
    "description = \"кот сидит рядом со стулом\"\n",
    "obj1 = \"стол\"\n",
    "obj2 = \"кот\"\n",
    "\n",
    "object_relation_inference(description, obj1, obj2)"
   ]
  },
  {
   "cell_type": "code",
   "execution_count": null,
   "metadata": {
    "id": "yzNn72EN3G77"
   },
   "outputs": [],
   "source": []
  }
 ],
 "metadata": {
  "accelerator": "GPU",
  "colab": {
   "gpuType": "T4",
   "machine_shape": "hm",
   "provenance": []
  },
  "kernelspec": {
   "display_name": "Python 3 (ipykernel)",
   "language": "python",
   "name": "python3"
  },
  "language_info": {
   "codemirror_mode": {
    "name": "ipython",
    "version": 3
   },
   "file_extension": ".py",
   "mimetype": "text/x-python",
   "name": "python",
   "nbconvert_exporter": "python",
   "pygments_lexer": "ipython3",
   "version": "3.12.3"
  },
  "widgets": {
   "application/vnd.jupyter.widget-state+json": {
    "1a7ac26ed94b47b8a437c3111a12fbd9": {
     "model_module": "@jupyter-widgets/controls",
     "model_module_version": "1.5.0",
     "model_name": "ProgressStyleModel",
     "state": {
      "_model_module": "@jupyter-widgets/controls",
      "_model_module_version": "1.5.0",
      "_model_name": "ProgressStyleModel",
      "_view_count": null,
      "_view_module": "@jupyter-widgets/base",
      "_view_module_version": "1.2.0",
      "_view_name": "StyleView",
      "bar_color": null,
      "description_width": ""
     }
    },
    "3804f1e27f654af299d307fa44d1fb22": {
     "model_module": "@jupyter-widgets/base",
     "model_module_version": "1.2.0",
     "model_name": "LayoutModel",
     "state": {
      "_model_module": "@jupyter-widgets/base",
      "_model_module_version": "1.2.0",
      "_model_name": "LayoutModel",
      "_view_count": null,
      "_view_module": "@jupyter-widgets/base",
      "_view_module_version": "1.2.0",
      "_view_name": "LayoutView",
      "align_content": null,
      "align_items": null,
      "align_self": null,
      "border": null,
      "bottom": null,
      "display": null,
      "flex": null,
      "flex_flow": null,
      "grid_area": null,
      "grid_auto_columns": null,
      "grid_auto_flow": null,
      "grid_auto_rows": null,
      "grid_column": null,
      "grid_gap": null,
      "grid_row": null,
      "grid_template_areas": null,
      "grid_template_columns": null,
      "grid_template_rows": null,
      "height": null,
      "justify_content": null,
      "justify_items": null,
      "left": null,
      "margin": null,
      "max_height": null,
      "max_width": null,
      "min_height": null,
      "min_width": null,
      "object_fit": null,
      "object_position": null,
      "order": null,
      "overflow": null,
      "overflow_x": null,
      "overflow_y": null,
      "padding": null,
      "right": null,
      "top": null,
      "visibility": null,
      "width": null
     }
    },
    "53de3a1ba7ee4b7a8c76da84cfb8da39": {
     "model_module": "@jupyter-widgets/base",
     "model_module_version": "1.2.0",
     "model_name": "LayoutModel",
     "state": {
      "_model_module": "@jupyter-widgets/base",
      "_model_module_version": "1.2.0",
      "_model_name": "LayoutModel",
      "_view_count": null,
      "_view_module": "@jupyter-widgets/base",
      "_view_module_version": "1.2.0",
      "_view_name": "LayoutView",
      "align_content": null,
      "align_items": null,
      "align_self": null,
      "border": null,
      "bottom": null,
      "display": null,
      "flex": null,
      "flex_flow": null,
      "grid_area": null,
      "grid_auto_columns": null,
      "grid_auto_flow": null,
      "grid_auto_rows": null,
      "grid_column": null,
      "grid_gap": null,
      "grid_row": null,
      "grid_template_areas": null,
      "grid_template_columns": null,
      "grid_template_rows": null,
      "height": null,
      "justify_content": null,
      "justify_items": null,
      "left": null,
      "margin": null,
      "max_height": null,
      "max_width": null,
      "min_height": null,
      "min_width": null,
      "object_fit": null,
      "object_position": null,
      "order": null,
      "overflow": null,
      "overflow_x": null,
      "overflow_y": null,
      "padding": null,
      "right": null,
      "top": null,
      "visibility": null,
      "width": null
     }
    },
    "76f053f95c5543b6bd2df4dbc8c98e72": {
     "model_module": "@jupyter-widgets/controls",
     "model_module_version": "1.5.0",
     "model_name": "FloatProgressModel",
     "state": {
      "_dom_classes": [],
      "_model_module": "@jupyter-widgets/controls",
      "_model_module_version": "1.5.0",
      "_model_name": "FloatProgressModel",
      "_view_count": null,
      "_view_module": "@jupyter-widgets/controls",
      "_view_module_version": "1.5.0",
      "_view_name": "ProgressView",
      "bar_style": "success",
      "description": "",
      "description_tooltip": null,
      "layout": "IPY_MODEL_3804f1e27f654af299d307fa44d1fb22",
      "max": 21671,
      "min": 0,
      "orientation": "horizontal",
      "style": "IPY_MODEL_1a7ac26ed94b47b8a437c3111a12fbd9",
      "value": 21671
     }
    },
    "941df8d374074e31bb3e73792fe47635": {
     "model_module": "@jupyter-widgets/base",
     "model_module_version": "1.2.0",
     "model_name": "LayoutModel",
     "state": {
      "_model_module": "@jupyter-widgets/base",
      "_model_module_version": "1.2.0",
      "_model_name": "LayoutModel",
      "_view_count": null,
      "_view_module": "@jupyter-widgets/base",
      "_view_module_version": "1.2.0",
      "_view_name": "LayoutView",
      "align_content": null,
      "align_items": null,
      "align_self": null,
      "border": null,
      "bottom": null,
      "display": null,
      "flex": null,
      "flex_flow": null,
      "grid_area": null,
      "grid_auto_columns": null,
      "grid_auto_flow": null,
      "grid_auto_rows": null,
      "grid_column": null,
      "grid_gap": null,
      "grid_row": null,
      "grid_template_areas": null,
      "grid_template_columns": null,
      "grid_template_rows": null,
      "height": null,
      "justify_content": null,
      "justify_items": null,
      "left": null,
      "margin": null,
      "max_height": null,
      "max_width": null,
      "min_height": null,
      "min_width": null,
      "object_fit": null,
      "object_position": null,
      "order": null,
      "overflow": null,
      "overflow_x": null,
      "overflow_y": null,
      "padding": null,
      "right": null,
      "top": null,
      "visibility": null,
      "width": null
     }
    },
    "c57effb74785458db572ecf753308ffb": {
     "model_module": "@jupyter-widgets/controls",
     "model_module_version": "1.5.0",
     "model_name": "DescriptionStyleModel",
     "state": {
      "_model_module": "@jupyter-widgets/controls",
      "_model_module_version": "1.5.0",
      "_model_name": "DescriptionStyleModel",
      "_view_count": null,
      "_view_module": "@jupyter-widgets/base",
      "_view_module_version": "1.2.0",
      "_view_name": "StyleView",
      "description_width": ""
     }
    },
    "c7bab9e9461546d5ad0b828b748427b1": {
     "model_module": "@jupyter-widgets/controls",
     "model_module_version": "1.5.0",
     "model_name": "HBoxModel",
     "state": {
      "_dom_classes": [],
      "_model_module": "@jupyter-widgets/controls",
      "_model_module_version": "1.5.0",
      "_model_name": "HBoxModel",
      "_view_count": null,
      "_view_module": "@jupyter-widgets/controls",
      "_view_module_version": "1.5.0",
      "_view_name": "HBoxView",
      "box_style": "",
      "children": [
       "IPY_MODEL_e76e505d5c7d46e9b28ebf645982a951",
       "IPY_MODEL_76f053f95c5543b6bd2df4dbc8c98e72",
       "IPY_MODEL_cf79d37cb5324e2ea7cc1d33e69931e7"
      ],
      "layout": "IPY_MODEL_53de3a1ba7ee4b7a8c76da84cfb8da39"
     }
    },
    "cf79d37cb5324e2ea7cc1d33e69931e7": {
     "model_module": "@jupyter-widgets/controls",
     "model_module_version": "1.5.0",
     "model_name": "HTMLModel",
     "state": {
      "_dom_classes": [],
      "_model_module": "@jupyter-widgets/controls",
      "_model_module_version": "1.5.0",
      "_model_name": "HTMLModel",
      "_view_count": null,
      "_view_module": "@jupyter-widgets/controls",
      "_view_module_version": "1.5.0",
      "_view_name": "HTMLView",
      "description": "",
      "description_tooltip": null,
      "layout": "IPY_MODEL_941df8d374074e31bb3e73792fe47635",
      "placeholder": "​",
      "style": "IPY_MODEL_c57effb74785458db572ecf753308ffb",
      "value": " 21671/21671 [00:16&lt;00:00, 1387.53 examples/s]"
     }
    },
    "d78195c6d5cd4fa7a21dffdd4b58003b": {
     "model_module": "@jupyter-widgets/base",
     "model_module_version": "1.2.0",
     "model_name": "LayoutModel",
     "state": {
      "_model_module": "@jupyter-widgets/base",
      "_model_module_version": "1.2.0",
      "_model_name": "LayoutModel",
      "_view_count": null,
      "_view_module": "@jupyter-widgets/base",
      "_view_module_version": "1.2.0",
      "_view_name": "LayoutView",
      "align_content": null,
      "align_items": null,
      "align_self": null,
      "border": null,
      "bottom": null,
      "display": null,
      "flex": null,
      "flex_flow": null,
      "grid_area": null,
      "grid_auto_columns": null,
      "grid_auto_flow": null,
      "grid_auto_rows": null,
      "grid_column": null,
      "grid_gap": null,
      "grid_row": null,
      "grid_template_areas": null,
      "grid_template_columns": null,
      "grid_template_rows": null,
      "height": null,
      "justify_content": null,
      "justify_items": null,
      "left": null,
      "margin": null,
      "max_height": null,
      "max_width": null,
      "min_height": null,
      "min_width": null,
      "object_fit": null,
      "object_position": null,
      "order": null,
      "overflow": null,
      "overflow_x": null,
      "overflow_y": null,
      "padding": null,
      "right": null,
      "top": null,
      "visibility": null,
      "width": null
     }
    },
    "e76e505d5c7d46e9b28ebf645982a951": {
     "model_module": "@jupyter-widgets/controls",
     "model_module_version": "1.5.0",
     "model_name": "HTMLModel",
     "state": {
      "_dom_classes": [],
      "_model_module": "@jupyter-widgets/controls",
      "_model_module_version": "1.5.0",
      "_model_name": "HTMLModel",
      "_view_count": null,
      "_view_module": "@jupyter-widgets/controls",
      "_view_module_version": "1.5.0",
      "_view_name": "HTMLView",
      "description": "",
      "description_tooltip": null,
      "layout": "IPY_MODEL_d78195c6d5cd4fa7a21dffdd4b58003b",
      "placeholder": "​",
      "style": "IPY_MODEL_fc48915a2f6f4f32a40e0a1133c21bf0",
      "value": "Map: 100%"
     }
    },
    "fc48915a2f6f4f32a40e0a1133c21bf0": {
     "model_module": "@jupyter-widgets/controls",
     "model_module_version": "1.5.0",
     "model_name": "DescriptionStyleModel",
     "state": {
      "_model_module": "@jupyter-widgets/controls",
      "_model_module_version": "1.5.0",
      "_model_name": "DescriptionStyleModel",
      "_view_count": null,
      "_view_module": "@jupyter-widgets/base",
      "_view_module_version": "1.2.0",
      "_view_name": "StyleView",
      "description_width": ""
     }
    }
   }
  }
 },
 "nbformat": 4,
 "nbformat_minor": 1
}
